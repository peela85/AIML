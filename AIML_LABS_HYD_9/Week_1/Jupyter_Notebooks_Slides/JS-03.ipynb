{
 "cells": [
  {
   "cell_type": "markdown",
   "metadata": {
    "slideshow": {
     "slide_type": "slide"
    }
   },
   "source": [
    "# Python Jumpstart\n",
    "## Part 3\n",
    "### Functions"
   ]
  },
  {
   "cell_type": "markdown",
   "metadata": {
    "slideshow": {
     "slide_type": "slide"
    }
   },
   "source": [
    "## Batteries included language\n",
    "\n",
    "### Built-in functions\n",
    "https://docs.python.org/3/library/functions.html\n",
    "\n",
    "### Standard Library\n",
    "https://docs.python.org/3/library/index.html\n",
    "\n",
    "### External libraries\n",
    "  * numpy, scipy, matplotlib\n",
    "  * pandas\n",
    "  * nltk\n",
    "  * beautifulsoup, lxml\n",
    "  * requests\n",
    "  * sympy\n",
    "  * pygame\n",
    "  * tkinter\n",
    "  * ..."
   ]
  },
  {
   "cell_type": "markdown",
   "metadata": {
    "slideshow": {
     "slide_type": "slide"
    }
   },
   "source": [
    "## Built-in Functions\n",
    " * math \n",
    "   - abs(), divmod(), pow(), round()\n",
    " * constructors & converters\n",
    "   - bin(), bool(), chr(), complex(), dict(), \n",
    "   - float(), hex(), int(), list(), oct(), ord()\n",
    "   - range(), set(), str(), tuple()\n",
    " * aggregate\n",
    "   - len(), min(), max(), sum(), any(), all()\n",
    " * introspection\n",
    "   - id(), dir(), hash(), repr(), type()\n",
    "   - eval(), exec()\n",
    " * hof\n",
    "   - map(), filter(), zip()\n",
    " * and more ..."
   ]
  },
  {
   "cell_type": "markdown",
   "metadata": {
    "slideshow": {
     "slide_type": "slide"
    }
   },
   "source": [
    "## Writing your own functions\n",
    "### Standard method"
   ]
  },
  {
   "cell_type": "code",
   "execution_count": 2,
   "metadata": {
    "slideshow": {
     "slide_type": "fragment"
    }
   },
   "outputs": [],
   "source": [
    "def isPrime(n):\n",
    "    if n in [2, 3, 5, 7]:\n",
    "        return True\n",
    "    if n % 2 == 0:\n",
    "        return False\n",
    "    r = 3\n",
    "    while r * r <= n:\n",
    "        if n % r == 0:\n",
    "            return False\n",
    "        r += 2\n",
    "    return True"
   ]
  },
  {
   "cell_type": "code",
   "execution_count": 3,
   "metadata": {
    "slideshow": {
     "slide_type": "fragment"
    }
   },
   "outputs": [
    {
     "name": "stdout",
     "output_type": "stream",
     "text": [
      "False\n",
      "True\n"
     ]
    }
   ],
   "source": [
    "print(isPrime(12))\n",
    "print(isPrime(107))"
   ]
  },
  {
   "cell_type": "markdown",
   "metadata": {
    "slideshow": {
     "slide_type": "subslide"
    }
   },
   "source": [
    "#### New syntax\n",
    "#### From 3.7"
   ]
  },
  {
   "cell_type": "code",
   "execution_count": 1,
   "metadata": {
    "slideshow": {
     "slide_type": "fragment"
    }
   },
   "outputs": [],
   "source": [
    "def isPrime2(n: int) -> bool:\n",
    "    if n in [2, 3, 5, 7]:\n",
    "        return True\n",
    "    if n % 2 == 0:\n",
    "        return False\n",
    "    r = 3\n",
    "    while r * r <= n:\n",
    "        if n % r == 0:\n",
    "            return False\n",
    "        r += 2\n",
    "    return True"
   ]
  },
  {
   "cell_type": "code",
   "execution_count": 4,
   "metadata": {
    "slideshow": {
     "slide_type": "fragment"
    }
   },
   "outputs": [
    {
     "name": "stdout",
     "output_type": "stream",
     "text": [
      "False\n",
      "True\n"
     ]
    }
   ],
   "source": [
    "print(isPrime2(12))\n",
    "print(isPrime2(107))"
   ]
  },
  {
   "cell_type": "markdown",
   "metadata": {
    "slideshow": {
     "slide_type": "slide"
    }
   },
   "source": [
    "## Code reading"
   ]
  },
  {
   "cell_type": "code",
   "execution_count": 5,
   "metadata": {
    "slideshow": {
     "slide_type": "subslide"
    }
   },
   "outputs": [],
   "source": [
    "def bvrith(n):\n",
    "    r = 0\n",
    "    while r * r < n:\n",
    "        r += 1\n",
    "    return r * r == n"
   ]
  },
  {
   "cell_type": "code",
   "execution_count": 6,
   "metadata": {
    "slideshow": {
     "slide_type": "subslide"
    }
   },
   "outputs": [],
   "source": [
    "def svecw(n):\n",
    "    if n == 1:\n",
    "        return True\n",
    "    if n % 2 == 1:\n",
    "        return False\n",
    "    return svecw(n//2)"
   ]
  },
  {
   "cell_type": "code",
   "execution_count": 7,
   "metadata": {
    "slideshow": {
     "slide_type": "subslide"
    }
   },
   "outputs": [],
   "source": [
    "def bvrit(n):\n",
    "    s = 0\n",
    "    p = len(str(n))\n",
    "    for ch in str(n):\n",
    "        s += int(ch) ** p\n",
    "    return s == n"
   ]
  },
  {
   "cell_type": "code",
   "execution_count": 9,
   "metadata": {
    "slideshow": {
     "slide_type": "subslide"
    }
   },
   "outputs": [],
   "source": [
    "def vit(s):\n",
    "    if len(s) <= 1:\n",
    "        return True\n",
    "    if s[0] != s[-1]:\n",
    "        return False\n",
    "    return vit(s[1:-1])"
   ]
  }
 ],
 "metadata": {
  "celltoolbar": "Slideshow",
  "kernelspec": {
   "display_name": "Python 3",
   "language": "python",
   "name": "python3"
  },
  "language_info": {
   "codemirror_mode": {
    "name": "ipython",
    "version": 3
   },
   "file_extension": ".py",
   "mimetype": "text/x-python",
   "name": "python",
   "nbconvert_exporter": "python",
   "pygments_lexer": "ipython3",
   "version": "3.7.1"
  }
 },
 "nbformat": 4,
 "nbformat_minor": 2
}

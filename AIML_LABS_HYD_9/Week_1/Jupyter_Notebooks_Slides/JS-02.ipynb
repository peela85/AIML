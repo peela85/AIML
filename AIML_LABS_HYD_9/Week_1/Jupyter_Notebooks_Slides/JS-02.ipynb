{
 "cells": [
  {
   "cell_type": "markdown",
   "metadata": {
    "slideshow": {
     "slide_type": "slide"
    }
   },
   "source": [
    "# Python Jumpstart\n",
    "## Part 2\n",
    "### Conditions and Iterations"
   ]
  },
  {
   "cell_type": "markdown",
   "metadata": {
    "slideshow": {
     "slide_type": "slide"
    }
   },
   "source": [
    "### Blocks\n",
    "  * Blocks are indicated by indenting\n",
    "  * Recommended standard is 4 spaces\n",
    "     - some projects use two spaces\n",
    "  * Wrong indentation **may** flag a syntax error "
   ]
  },
  {
   "cell_type": "code",
   "execution_count": 1,
   "metadata": {
    "slideshow": {
     "slide_type": "fragment"
    }
   },
   "outputs": [
    {
     "name": "stdout",
     "output_type": "stream",
     "text": [
      "Eligible for senior citizen rates\n"
     ]
    }
   ],
   "source": [
    "SENIOR_CITIZEN_ELIGIBILITY = 60\n",
    "my_age = 62\n",
    "if my_age > SENIOR_CITIZEN_ELIGIBILITY:\n",
    "    print(\"Eligible for senior citizen rates\")\n",
    "else:\n",
    "    print(\"Grow up some more!\")"
   ]
  },
  {
   "cell_type": "code",
   "execution_count": 2,
   "metadata": {
    "slideshow": {
     "slide_type": "fragment"
    }
   },
   "outputs": [
    {
     "name": "stdout",
     "output_type": "stream",
     "text": [
      "Eligible for senior citizen rates\n",
      "Thank you\n"
     ]
    }
   ],
   "source": [
    "SENIOR_CITIZEN_ELIGIBILITY = 60\n",
    "my_age = 62\n",
    "if my_age > SENIOR_CITIZEN_ELIGIBILITY:\n",
    "    print(\"Eligible for senior citizen rates\")\n",
    "    discount = 0.5\n",
    "else:\n",
    "    print(\"Grow up some more!\")\n",
    "print(\"Thank you\")"
   ]
  },
  {
   "cell_type": "markdown",
   "metadata": {
    "slideshow": {
     "slide_type": "slide"
    }
   },
   "source": [
    "### Two indenting errors"
   ]
  },
  {
   "cell_type": "code",
   "execution_count": 4,
   "metadata": {
    "slideshow": {
     "slide_type": "fragment"
    }
   },
   "outputs": [
    {
     "ename": "IndentationError",
     "evalue": "unindent does not match any outer indentation level (<tokenize>, line 5)",
     "output_type": "error",
     "traceback": [
      "\u001b[0;36m  File \u001b[0;32m\"<tokenize>\"\u001b[0;36m, line \u001b[0;32m5\u001b[0m\n\u001b[0;31m    discount = 0.5\u001b[0m\n\u001b[0m    ^\u001b[0m\n\u001b[0;31mIndentationError\u001b[0m\u001b[0;31m:\u001b[0m unindent does not match any outer indentation level\n"
     ]
    }
   ],
   "source": [
    "SENIOR_CITIZEN_ELIGIBILITY = 60\n",
    "my_age = 62\n",
    "if my_age > SENIOR_CITIZEN_ELIGIBILITY:\n",
    "     print(\"Eligible for senior citizen rates\")\n",
    "    discount = 0.5\n",
    "else:\n",
    "    print(\"Grow up some more!\")\n",
    "print(\"Thank you\")"
   ]
  },
  {
   "cell_type": "code",
   "execution_count": 5,
   "metadata": {
    "slideshow": {
     "slide_type": "fragment"
    }
   },
   "outputs": [
    {
     "ename": "IndentationError",
     "evalue": "unexpected indent (<ipython-input-5-7628af213d18>, line 5)",
     "output_type": "error",
     "traceback": [
      "\u001b[0;36m  File \u001b[0;32m\"<ipython-input-5-7628af213d18>\"\u001b[0;36m, line \u001b[0;32m5\u001b[0m\n\u001b[0;31m    discount = 0.5\u001b[0m\n\u001b[0m    ^\u001b[0m\n\u001b[0;31mIndentationError\u001b[0m\u001b[0;31m:\u001b[0m unexpected indent\n"
     ]
    }
   ],
   "source": [
    "SENIOR_CITIZEN_ELIGIBILITY = 60\n",
    "my_age = 62\n",
    "if my_age > SENIOR_CITIZEN_ELIGIBILITY:\n",
    "    print(\"Eligible for senior citizen rates\")\n",
    "     discount = 0.5\n",
    "else:\n",
    "    print(\"Grow up some more!\")\n",
    "print(\"Thank you\")"
   ]
  },
  {
   "cell_type": "markdown",
   "metadata": {
    "slideshow": {
     "slide_type": "slide"
    }
   },
   "source": [
    "#### Blocks Summary\n",
    "  * colon as the last character\n",
    "  * indentation to include in block\n",
    "  * unindent to close block\n",
    "  * Loops, Conditions, Functions ...."
   ]
  },
  {
   "cell_type": "code",
   "execution_count": 6,
   "metadata": {
    "slideshow": {
     "slide_type": "slide"
    }
   },
   "outputs": [
    {
     "name": "stdout",
     "output_type": "stream",
     "text": [
      "Positive\n"
     ]
    }
   ],
   "source": [
    "x = 7\n",
    "if x > 0:\n",
    "    print(\"Positive\")\n",
    "elif x < 0:\n",
    "    print(\"Negative\")\n",
    "else:\n",
    "    print(\"Zero!\")"
   ]
  },
  {
   "cell_type": "markdown",
   "metadata": {
    "slideshow": {
     "slide_type": "slide"
    }
   },
   "source": [
    "### while loop\n",
    "  * usual\n",
    "  * no parens required (as for if)\n",
    "  * possible to end with infinite loops\n",
    "  * Nestable"
   ]
  },
  {
   "cell_type": "code",
   "execution_count": 7,
   "metadata": {
    "slideshow": {
     "slide_type": "fragment"
    }
   },
   "outputs": [
    {
     "name": "stdout",
     "output_type": "stream",
     "text": [
      "0 1 1 2 3 5 8 13 21 34 "
     ]
    }
   ],
   "source": [
    "a, b, n = 0, 1, 0\n",
    "while n < 10:\n",
    "    print(a, end = \" \")\n",
    "    a, b = b, a + b\n",
    "    n += 1"
   ]
  },
  {
   "cell_type": "markdown",
   "metadata": {
    "slideshow": {
     "slide_type": "fragment"
    }
   },
   "source": [
    "* break, continue are available\n",
    "* but please avoid using them"
   ]
  },
  {
   "cell_type": "markdown",
   "metadata": {
    "slideshow": {
     "slide_type": "slide"
    }
   },
   "source": [
    "### for \n",
    "  * iterator not a loop\n",
    "  * ubiquitous\n",
    " "
   ]
  },
  {
   "cell_type": "code",
   "execution_count": 8,
   "metadata": {
    "slideshow": {
     "slide_type": "fragment"
    }
   },
   "outputs": [
    {
     "name": "stdout",
     "output_type": "stream",
     "text": [
      "0 -1 1 0 1 0 2 3 3 8 5 24 8 63 "
     ]
    }
   ],
   "source": [
    "f = [0, 1, 1, 2, 3, 5, 8]\n",
    "for n in f:\n",
    "    print(n, n * n - 1, end = \" \")"
   ]
  },
  {
   "cell_type": "code",
   "execution_count": 9,
   "metadata": {
    "slideshow": {
     "slide_type": "fragment"
    }
   },
   "outputs": [
    {
     "name": "stdout",
     "output_type": "stream",
     "text": [
      "hELLO ves!"
     ]
    }
   ],
   "source": [
    "for ch in \"Hello VES!\":\n",
    "    print(ch.swapcase(), end=\"\")"
   ]
  },
  {
   "cell_type": "code",
   "execution_count": 12,
   "metadata": {
    "slideshow": {
     "slide_type": "fragment"
    }
   },
   "outputs": [
    {
     "name": "stdout",
     "output_type": "stream",
     "text": [
      "3\n",
      "7\n",
      "31\n",
      "127\n"
     ]
    }
   ],
   "source": [
    "for p in [2, 3, 5, 7]:\n",
    "    print(2 ** p - 1)"
   ]
  },
  {
   "cell_type": "code",
   "execution_count": 11,
   "metadata": {
    "slideshow": {
     "slide_type": "fragment"
    }
   },
   "outputs": [
    {
     "name": "stdout",
     "output_type": "stream",
     "text": [
      "Asokan\n",
      "CLO\n",
      "62\n",
      "['Python', 'Haskell']\n"
     ]
    }
   ],
   "source": [
    "for x in (\"Asokan\", \"CLO\", 62, [\"Python\", \"Haskell\"]):\n",
    "    print(x)"
   ]
  }
 ],
 "metadata": {
  "celltoolbar": "Slideshow",
  "kernelspec": {
   "display_name": "Python 3",
   "language": "python",
   "name": "python3"
  },
  "language_info": {
   "codemirror_mode": {
    "name": "ipython",
    "version": 3
   },
   "file_extension": ".py",
   "mimetype": "text/x-python",
   "name": "python",
   "nbconvert_exporter": "python",
   "pygments_lexer": "ipython3",
   "version": "3.7.1"
  }
 },
 "nbformat": 4,
 "nbformat_minor": 2
}

{
 "cells": [
  {
   "cell_type": "markdown",
   "metadata": {
    "slideshow": {
     "slide_type": "slide"
    }
   },
   "source": [
    "# Python Jumpstart\n",
    "## Part 1\n",
    "### Quick Review"
   ]
  },
  {
   "cell_type": "markdown",
   "metadata": {
    "slideshow": {
     "slide_type": "slide"
    }
   },
   "source": [
    "### History\n",
    "### Why Python?\n",
    "### Scalar Data Types\n",
    "### Sequence Data Types\n",
    "### Basic I/O"
   ]
  },
  {
   "cell_type": "markdown",
   "metadata": {
    "slideshow": {
     "slide_type": "slide"
    }
   },
   "source": [
    "### Dynamically typed  ⬄ Strongly typed\n",
    "#### No variable declaration"
   ]
  },
  {
   "cell_type": "code",
   "execution_count": 1,
   "metadata": {
    "slideshow": {
     "slide_type": "fragment"
    }
   },
   "outputs": [
    {
     "ename": "TypeError",
     "evalue": "unsupported operand type(s) for +: 'int' and 'str'",
     "output_type": "error",
     "traceback": [
      "\u001b[0;31m---------------------------------------------------------------------------\u001b[0m",
      "\u001b[0;31mTypeError\u001b[0m                                 Traceback (most recent call last)",
      "\u001b[0;32m<ipython-input-1-7b8d318e7389>\u001b[0m in \u001b[0;36m<module>\u001b[0;34m\u001b[0m\n\u001b[1;32m      1\u001b[0m \u001b[0ma\u001b[0m \u001b[0;34m=\u001b[0m \u001b[0;36m17\u001b[0m\u001b[0;34m\u001b[0m\u001b[0;34m\u001b[0m\u001b[0m\n\u001b[1;32m      2\u001b[0m \u001b[0mb\u001b[0m \u001b[0;34m=\u001b[0m \u001b[0;34m\"Hello\"\u001b[0m\u001b[0;34m\u001b[0m\u001b[0;34m\u001b[0m\u001b[0m\n\u001b[0;32m----> 3\u001b[0;31m \u001b[0mc\u001b[0m \u001b[0;34m=\u001b[0m \u001b[0ma\u001b[0m \u001b[0;34m+\u001b[0m \u001b[0mb\u001b[0m\u001b[0;34m\u001b[0m\u001b[0;34m\u001b[0m\u001b[0m\n\u001b[0m",
      "\u001b[0;31mTypeError\u001b[0m: unsupported operand type(s) for +: 'int' and 'str'"
     ]
    }
   ],
   "source": [
    "a = 17\n",
    "b = \"Hello\"\n",
    "c = a + b"
   ]
  },
  {
   "cell_type": "code",
   "execution_count": 2,
   "metadata": {
    "slideshow": {
     "slide_type": "fragment"
    }
   },
   "outputs": [
    {
     "ename": "NameError",
     "evalue": "name 'd' is not defined",
     "output_type": "error",
     "traceback": [
      "\u001b[0;31m---------------------------------------------------------------------------\u001b[0m",
      "\u001b[0;31mNameError\u001b[0m                                 Traceback (most recent call last)",
      "\u001b[0;32m<ipython-input-2-a768ab610d41>\u001b[0m in \u001b[0;36m<module>\u001b[0;34m\u001b[0m\n\u001b[0;32m----> 1\u001b[0;31m \u001b[0mc\u001b[0m \u001b[0;34m=\u001b[0m \u001b[0ma\u001b[0m \u001b[0;34m+\u001b[0m \u001b[0md\u001b[0m\u001b[0;34m\u001b[0m\u001b[0;34m\u001b[0m\u001b[0m\n\u001b[0m",
      "\u001b[0;31mNameError\u001b[0m: name 'd' is not defined"
     ]
    }
   ],
   "source": [
    "c = a + d"
   ]
  },
  {
   "cell_type": "markdown",
   "metadata": {
    "slideshow": {
     "slide_type": "slide"
    }
   },
   "source": [
    "### Scalar Data Types\n",
    "\n",
    " * Integers\n",
    " * Floats\n",
    " * Booleans\n",
    " * Complex"
   ]
  },
  {
   "cell_type": "markdown",
   "metadata": {
    "slideshow": {
     "slide_type": "subslide"
    }
   },
   "source": [
    "#### Integers\n",
    "  * No limit\n",
    "  * Usual operators: + PLUS, - MINUS, * STAR and % PERCENTAGE\n",
    "  * Different operators: \n",
    "     - / SLASH for floating division\n",
    "     - // DOUBLE SLASH for truncating division\n",
    "     - ** DOUBLE STAR for exponentiation\n",
    "  * assignment operators\n",
    "     - x ⊙= y ⇨ x = x ⊙ y"
   ]
  },
  {
   "cell_type": "markdown",
   "metadata": {
    "slideshow": {
     "slide_type": "subslide"
    }
   },
   "source": [
    "#### Floats\n",
    "  * Same as C double!\n",
    "  * With the usual troubles"
   ]
  },
  {
   "cell_type": "code",
   "execution_count": 3,
   "metadata": {
    "slideshow": {
     "slide_type": "fragment"
    }
   },
   "outputs": [
    {
     "name": "stdout",
     "output_type": "stream",
     "text": [
      "46.440000000000005\n"
     ]
    }
   ],
   "source": [
    "x = 12.9\n",
    "y = 3.6\n",
    "print(x * y)"
   ]
  },
  {
   "cell_type": "markdown",
   "metadata": {
    "slideshow": {
     "slide_type": "subslide"
    }
   },
   "source": [
    "#### Booleans\n",
    "   * True\n",
    "   * False\n",
    "   * Usual operators:\n",
    "     - ==, !=\n",
    "     - <, <=, >, >=\n",
    "   * Additionally, \n",
    "     - 0 < க < 9\n",
    "     - 0 < க < வ < 12\n",
    "   "
   ]
  },
  {
   "cell_type": "markdown",
   "metadata": {
    "slideshow": {
     "slide_type": "subslide"
    }
   },
   "source": [
    "#### Complex\n",
    "   * uses j for $\\sqrt{-1}$ 😠\n",
    "   "
   ]
  },
  {
   "cell_type": "code",
   "execution_count": 4,
   "metadata": {
    "slideshow": {
     "slide_type": "fragment"
    }
   },
   "outputs": [
    {
     "name": "stdout",
     "output_type": "stream",
     "text": [
      "(4.6+10.7j)\n",
      "(-45.269999999999996+34.69j)\n"
     ]
    }
   ],
   "source": [
    "α = 7.1 + 4.3j\n",
    "β = -2.5 + 6.4j\n",
    "γ = α + β\n",
    "print(γ)\n",
    "print(α * β)"
   ]
  },
  {
   "cell_type": "markdown",
   "metadata": {
    "slideshow": {
     "slide_type": "slide"
    }
   },
   "source": [
    "## Sequence data types\n",
    "  * Lists\n",
    "  * Strings\n",
    "  * Tuples\n",
    "  * Arrays?"
   ]
  },
  {
   "cell_type": "markdown",
   "metadata": {
    "slideshow": {
     "slide_type": "slide"
    }
   },
   "source": [
    "### Lists\n",
    "  * Standard heterogenous collection\n",
    "  * enclosed within []'s\n",
    "  * accessed using [index] notation\n",
    "    - indices: 0 .. size-1\n",
    "    - negative indices\n",
    "  * rich set of operations\n",
    "    - append(), extend(), insert()\n",
    "    - remove(), pop()\n",
    "    - in, index(), count()\n",
    "    - be careful about the mutators: sort(), reverse()"
   ]
  },
  {
   "cell_type": "code",
   "execution_count": 5,
   "metadata": {
    "slideshow": {
     "slide_type": "fragment"
    }
   },
   "outputs": [
    {
     "name": "stdout",
     "output_type": "stream",
     "text": [
      "True\n",
      "False\n",
      "None\n"
     ]
    }
   ],
   "source": [
    "a = [1, 3, 2, 4]\n",
    "print(1 in a)\n",
    "print(5 in a)\n",
    "a = a.sort()\n",
    "print(a)"
   ]
  },
  {
   "cell_type": "code",
   "execution_count": 6,
   "metadata": {
    "slideshow": {
     "slide_type": "fragment"
    }
   },
   "outputs": [
    {
     "name": "stdout",
     "output_type": "stream",
     "text": [
      "[1, 2, 3, 4]\n"
     ]
    }
   ],
   "source": [
    "a = [1, 3, 2, 4]\n",
    "a.sort()\n",
    "print(a)"
   ]
  },
  {
   "cell_type": "markdown",
   "metadata": {
    "slideshow": {
     "slide_type": "subslide"
    }
   },
   "source": [
    "#### Implementation note\n",
    "   * contiguous arrays of pointers--dynamically grown\n",
    "   * append(), pop() are fast\n",
    "   * insert() and pop(i) are slow"
   ]
  },
  {
   "cell_type": "markdown",
   "metadata": {
    "slideshow": {
     "slide_type": "slide"
    }
   },
   "source": [
    "### Strings\n",
    "  - Can be single quoted\n",
    "  - Or double quoted!\n",
    "  - Or triple quoted!!\n",
    "       * with single quotes\n",
    "       * or double quotes\n",
    "  - IMMUTABLE\n",
    "  - \\+ for concatenation\n",
    "  - \\* for repetition"
   ]
  },
  {
   "cell_type": "code",
   "execution_count": 7,
   "metadata": {
    "slideshow": {
     "slide_type": "subslide"
    }
   },
   "outputs": [],
   "source": [
    "a = \"Hello World!\"\n",
    "b = \"I'm happy to use Python\"\n",
    "c = 'GvR says, \"Readability counts\" and Python shines here'\n",
    "d = \"\"\" Long long ago, in a galaxy far far away ...\n",
    "    It is a period of civil war. Rebel spaceships, striking from a hidden\n",
    "    base, have won their first victory against the evil Galactic Empire. \n",
    "    During the battle, Rebel spies managed to steal secret plans to the\n",
    "    Empire’s ultimate weapon, the DEATH STAR, an armored space station \n",
    "    with enough power to destroy an entire planet. ….\"\"\""
   ]
  },
  {
   "cell_type": "markdown",
   "metadata": {
    "slideshow": {
     "slide_type": "slide"
    }
   },
   "source": [
    "#### String methods\n",
    "  * lower(), upper(), title(), capitalize(), swapcase()\n",
    "  * in, startsWith(), endsWith()\n",
    "  * find(), index(), count()\n",
    "  * just(), center()\n",
    "  * split(), join()\n",
    "  * strip()\n",
    "  * translate(), encode()\n",
    "  * is...()\n",
    "  * Formatting"
   ]
  },
  {
   "cell_type": "markdown",
   "metadata": {
    "slideshow": {
     "slide_type": "slide"
    }
   },
   "source": [
    "### Slicing and Striding\n"
   ]
  },
  {
   "cell_type": "code",
   "execution_count": 8,
   "metadata": {
    "slideshow": {
     "slide_type": "fragment"
    }
   },
   "outputs": [
    {
     "name": "stdout",
     "output_type": "stream",
     "text": [
      "[2, 3, 5]\n",
      "[0, 1, 1, 2, 3, 5, 8]\n",
      "[5, 8, 13, 21, 34]\n",
      "[1, 1, 2, 3, 5, 8, 13, 21]\n"
     ]
    }
   ],
   "source": [
    "f = [0, 1, 1, 2, 3, 5, 8, 13, 21, 34]\n",
    "print(f[3:6])\n",
    "print(f[:7])\n",
    "print(f[5:])\n",
    "print(f[1:-1])"
   ]
  },
  {
   "cell_type": "code",
   "execution_count": 9,
   "metadata": {
    "slideshow": {
     "slide_type": "fragment"
    }
   },
   "outputs": [
    {
     "name": "stdout",
     "output_type": "stream",
     "text": [
      "[1, 3, 13]\n",
      "[0, 1, 3, 8, 21]\n",
      "[34, 21, 13, 8, 5, 3, 2, 1, 1, 0]\n"
     ]
    }
   ],
   "source": [
    "print(f[1::3])\n",
    "print(f[::2])\n",
    "print(f[::-1])"
   ]
  },
  {
   "cell_type": "markdown",
   "metadata": {
    "slideshow": {
     "slide_type": "slide"
    }
   },
   "source": [
    "### Tuples\n",
    "  * Immutable, heterogenous\n",
    "  * Best thought of as records/structures\n",
    "  * enclosed in parentheses\n",
    "  * separated by comma\n",
    "  * auto packing and unpacking"
   ]
  },
  {
   "cell_type": "code",
   "execution_count": 10,
   "metadata": {
    "slideshow": {
     "slide_type": "slide"
    }
   },
   "outputs": [
    {
     "name": "stdout",
     "output_type": "stream",
     "text": [
      "23 17\n"
     ]
    }
   ],
   "source": [
    "a = 17\n",
    "b = 23\n",
    "a, b = b, a\n",
    "print(a, b)"
   ]
  },
  {
   "cell_type": "code",
   "execution_count": 11,
   "metadata": {
    "slideshow": {
     "slide_type": "fragment"
    }
   },
   "outputs": [
    {
     "name": "stdout",
     "output_type": "stream",
     "text": [
      "World! Hello\n",
      "Hello 42\n"
     ]
    }
   ],
   "source": [
    "α = \"Hello\"\n",
    "β = \"World!\"\n",
    "க = 42 \n",
    "α, β = β, α\n",
    "print(α, β)\n",
    "க, β = β, க\n",
    "print(க, β)"
   ]
  },
  {
   "cell_type": "code",
   "execution_count": 14,
   "metadata": {
    "slideshow": {
     "slide_type": "fragment"
    }
   },
   "outputs": [
    {
     "name": "stdout",
     "output_type": "stream",
     "text": [
      "12\n"
     ]
    }
   ],
   "source": [
    "a, b, n = 12, 10, 0\n",
    "x = (12, 10, 0)\n",
    "print(x[0])"
   ]
  },
  {
   "cell_type": "markdown",
   "metadata": {
    "slideshow": {
     "slide_type": "slide"
    }
   },
   "source": [
    "### Simple Input Output\n",
    "  * input() for reading from stdin\n",
    "    - can take a prompt\n",
    "  * print() for writing to stdout\n",
    "  * print() + string formatting"
   ]
  }
 ],
 "metadata": {
  "celltoolbar": "Slideshow",
  "kernelspec": {
   "display_name": "Python 3",
   "language": "python",
   "name": "python3"
  },
  "language_info": {
   "codemirror_mode": {
    "name": "ipython",
    "version": 3
   },
   "file_extension": ".py",
   "mimetype": "text/x-python",
   "name": "python",
   "nbconvert_exporter": "python",
   "pygments_lexer": "ipython3",
   "version": "3.7.1"
  }
 },
 "nbformat": 4,
 "nbformat_minor": 2
}

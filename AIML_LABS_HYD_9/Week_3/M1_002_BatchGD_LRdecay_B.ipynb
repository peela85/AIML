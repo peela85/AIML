{
 "cells": [
  {
   "cell_type": "markdown",
   "metadata": {
    "colab_type": "text",
    "id": "tao2w0W4IwEO"
   },
   "source": [
    "# Advanced Certification in AIML\n",
    "## A Program by IIIT-H and TalentSprint\n",
    "\n"
   ]
  },
  {
   "cell_type": "markdown",
   "metadata": {
    "colab_type": "text",
    "id": "2Pkm2A7Ss0g1"
   },
   "source": [
    "### Learning Objective"
   ]
  },
  {
   "cell_type": "markdown",
   "metadata": {
    "colab_type": "text",
    "id": "YEjLydYUgjDV"
   },
   "source": [
    "At the end of the experiment, you will be able to :\n",
    "\n",
    "- Understand the concept of Gradient descent method\n",
    "- Observe the effect of learning rate"
   ]
  },
  {
   "cell_type": "code",
   "execution_count": 0,
   "metadata": {
    "cellView": "form",
    "colab": {},
    "colab_type": "code",
    "id": "XDbRvIzDp_K8"
   },
   "outputs": [],
   "source": [
    "#@title Experiment Walkthrough\n",
    "#@markdown Gradient descent and learning rate variations\n",
    "from IPython.display import HTML\n",
    "HTML(\"\"\"<video width='520' height='240' controls>\n",
    "<source src=\"https://cdn.talentsprint.com/aiml/AIML_BATCH_HYD_7/Week_1/gradient_descent.mp4\" type='video/mp4'>\n",
    "</video>\"\"\")"
   ]
  },
  {
   "cell_type": "markdown",
   "metadata": {
    "colab_type": "text",
    "id": "og1EHpbjgrHP"
   },
   "source": [
    "##Dataset"
   ]
  },
  {
   "cell_type": "markdown",
   "metadata": {
    "colab_type": "text",
    "id": "rSwgCEA_uJ40"
   },
   "source": [
    "###Description"
   ]
  },
  {
   "cell_type": "markdown",
   "metadata": {
    "colab_type": "text",
    "id": "sX79m6OkgtKk"
   },
   "source": [
    "\n",
    "The dataset consists of two columns and 89 rows. Each column represents a characteristic of a simple pendulum i.e l (length) and t (time period). The dataset describes the relationship between the l and t which is  L∝T2 .\n"
   ]
  },
  {
   "cell_type": "markdown",
   "metadata": {
    "colab_type": "text",
    "id": "nn9drxhC3f6e"
   },
   "source": [
    "##AI/ML Technique"
   ]
  },
  {
   "cell_type": "markdown",
   "metadata": {
    "colab_type": "text",
    "id": "M00g7i4RvHN7"
   },
   "source": [
    "#### Gradient Descent\n",
    "\n",
    "Gradient Descent is used while training a machine learning model. It is an optimization algorithm, based on a convex function, that tweaks it’s parameters iteratively to minimize a given function to its local minimum.\n",
    "\n",
    "To know more about Gradient Descent and its variants you can refer the below link:\n",
    "\n",
    "https://towardsdatascience.com/gradient-descent-in-a-nutshell-eaf8c18212f0"
   ]
  },
  {
   "cell_type": "markdown",
   "metadata": {
    "colab_type": "text",
    "id": "A1HXAgaNuvZn"
   },
   "source": [
    "## Keywords"
   ]
  },
  {
   "cell_type": "markdown",
   "metadata": {
    "colab_type": "text",
    "id": "F6HD2LjdIwEQ"
   },
   "source": [
    "\n",
    "\n",
    "- Gradient Descent\n",
    "- Learning Rate\n",
    "- Error Function\n",
    "- Decay "
   ]
  },
  {
   "cell_type": "markdown",
   "metadata": {
    "colab_type": "text",
    "id": "a3fJnELiIwES"
   },
   "source": [
    "## Expected time : 60 mins"
   ]
  },
  {
   "cell_type": "markdown",
   "metadata": {
    "colab_type": "text",
    "id": "j1b476ZK6U74"
   },
   "source": [
    "## Setup Steps"
   ]
  },
  {
   "cell_type": "code",
   "execution_count": 0,
   "metadata": {
    "colab": {},
    "colab_type": "code",
    "id": "AQylO_MO6SUK"
   },
   "outputs": [],
   "source": [
    "#@title Please enter your registration id to start: (e.g. P181900101) { run: \"auto\", display-mode: \"form\" }\n",
    "Id = \"\" #@param {type:\"string\"}\n"
   ]
  },
  {
   "cell_type": "code",
   "execution_count": 0,
   "metadata": {
    "colab": {},
    "colab_type": "code",
    "id": "GnQgepji6Zaa"
   },
   "outputs": [],
   "source": [
    "#@title Please enter your password (normally your phone number) to continue: { run: \"auto\", display-mode: \"form\" }\n",
    "password = \"\" #@param {type:\"string\"}\n"
   ]
  },
  {
   "cell_type": "code",
   "execution_count": 0,
   "metadata": {
    "cellView": "form",
    "colab": {},
    "colab_type": "code",
    "id": "F7oXwE9nv30Y"
   },
   "outputs": [],
   "source": [
    "#@title Run this cell to complete the setup for this Notebook\n",
    "from IPython import get_ipython\n",
    "\n",
    "ipython = get_ipython()\n",
    "  \n",
    "notebook=\"M1W1_002_BatchGD_LRdecay_B\" #name of the notebook\n",
    "\n",
    "def setup():\n",
    "#  ipython.magic(\"sx pip3 install torch\") \n",
    "    ipython.magic(\"sx wget https://cdn.talentsprint.com/aiml/Experiment_related_data/week1/Exp1/AIML_DS_REGR01_SIMPLEPENDULUMOSCILLATIONDATA.txt\")\n",
    "    from IPython.display import HTML, display\n",
    "    display(HTML('<script src=\"https://dashboard.talentsprint.com/aiml/record_ip.html?traineeId={0}&recordId={1}\"></script>'.format(getId(),submission_id)))\n",
    "    print(\"Setup completed successfully\")\n",
    "    return\n",
    "\n",
    "def submit_notebook():\n",
    "    \n",
    "    ipython.magic(\"notebook -e \"+ notebook + \".ipynb\")\n",
    "    \n",
    "    import requests, json, base64, datetime\n",
    "\n",
    "    url = \"https://dashboard.talentsprint.com/xp/app/save_notebook_attempts\"\n",
    "    if not submission_id:\n",
    "      data = {\"id\" : getId(), \"notebook\" : notebook, \"mobile\" : getPassword()}\n",
    "      r = requests.post(url, data = data)\n",
    "      r = json.loads(r.text)\n",
    "\n",
    "      if r[\"status\"] == \"Success\":\n",
    "          return r[\"record_id\"]\n",
    "      elif \"err\" in r:        \n",
    "        print(r[\"err\"])\n",
    "        return None        \n",
    "      else:\n",
    "        print (\"Something is wrong, the notebook will not be submitted for grading\")\n",
    "        return None\n",
    "\n",
    "    elif getAnswer() and getComplexity() and getAdditional() and getConcepts():\n",
    "      f = open(notebook + \".ipynb\", \"rb\")\n",
    "      file_hash = base64.b64encode(f.read())\n",
    "\n",
    "      data = {\"complexity\" : Complexity, \"additional\" :Additional, \n",
    "              \"concepts\" : Concepts, \"record_id\" : submission_id, \n",
    "              \"answer\" : Answer, \"id\" : Id, \"file_hash\" : file_hash,\n",
    "              \"notebook\" : notebook}\n",
    "\n",
    "      r = requests.post(url, data = data)\n",
    "      r = json.loads(r.text)\n",
    "      print(\"Your submission is successful.\")\n",
    "      print(\"Ref Id:\", submission_id)\n",
    "      print(\"Date of submission: \", r[\"date\"])\n",
    "      print(\"Time of submission: \", r[\"time\"])\n",
    "      print(\"View your submissions: https://iiith-aiml.talentsprint.com/notebook_submissions\")\n",
    "      print(\"For any queries/discrepancies, please connect with mentors through the chat icon in LMS dashboard.\")\n",
    "      return submission_id\n",
    "    else: submission_id\n",
    "    \n",
    "\n",
    "def getAdditional():\n",
    "  try:\n",
    "    if Additional: return Additional      \n",
    "    else: raise NameError('')\n",
    "  except NameError:\n",
    "    print (\"Please answer Additional Question\")\n",
    "    return None\n",
    "\n",
    "def getComplexity():\n",
    "  try:\n",
    "    return Complexity\n",
    "  except NameError:\n",
    "    print (\"Please answer Complexity Question\")\n",
    "    return None\n",
    "  \n",
    "def getConcepts():\n",
    "  try:\n",
    "    return Concepts\n",
    "  except NameError:\n",
    "    print (\"Please answer Concepts Question\")\n",
    "    return None\n",
    "\n",
    "def getAnswer():\n",
    "  try:\n",
    "    return Answer\n",
    "  except NameError:\n",
    "    print (\"Please answer Question\")\n",
    "    return None\n",
    "\n",
    "def getId():\n",
    "  try: \n",
    "    return Id if Id else None\n",
    "  except NameError:\n",
    "    return None\n",
    "\n",
    "def getPassword():\n",
    "  try:\n",
    "    return password if password else None\n",
    "  except NameError:\n",
    "    return None\n",
    "\n",
    "submission_id = None\n",
    "### Setup \n",
    "if getPassword() and getId():\n",
    "  submission_id = submit_notebook()\n",
    "  if submission_id:\n",
    "    setup()\n",
    "    from IPython.display import HTML\n",
    "    HTML('<script src=\"https://dashboard.talentsprint.com/aiml/record_ip.html?traineeId={0}&recordId={1}\"></script>'.format(getId(),submission_id))\n",
    "  \n",
    "else:\n",
    "  print (\"Please complete Id and Password cells before running setup\")\n",
    "\n"
   ]
  },
  {
   "cell_type": "code",
   "execution_count": 0,
   "metadata": {
    "colab": {},
    "colab_type": "code",
    "id": "HxcZUqq5IwEY"
   },
   "outputs": [],
   "source": [
    "# Import the required Packages\n",
    "import pandas as pd\n",
    "import matplotlib.pyplot as plt"
   ]
  },
  {
   "cell_type": "code",
   "execution_count": 0,
   "metadata": {
    "colab": {},
    "colab_type": "code",
    "id": "5Ttnpu44IwEb"
   },
   "outputs": [],
   "source": [
    "# Load the data by using pandas read_csv()\n",
    "data = pd.read_csv(\"AIML_DS_REGR01_SIMPLEPENDULUMOSCILLATIONDATA.txt\", sep=\" \", header=None, names=['l', 't'])\n",
    "# Print the first 5 rows of dataframe 'data'\n",
    "print(data.head())\n",
    "# Print the last 5 rows of dataframe 'data'\n",
    "print(data.tail())"
   ]
  },
  {
   "cell_type": "code",
   "execution_count": 0,
   "metadata": {
    "colab": {},
    "colab_type": "code",
    "id": "ZGdRFp1LIwEd"
   },
   "outputs": [],
   "source": [
    "# Get the length and time period values from the dataset\n",
    "l = data['l'].values\n",
    "t = data['t'].values\n",
    "# Get the square of time period\n",
    "tsq = t * t"
   ]
  },
  {
   "cell_type": "markdown",
   "metadata": {
    "colab_type": "text",
    "id": "pUL8e-6JIwEg"
   },
   "source": [
    "#### Vanilla/Batch Gradient Descent"
   ]
  },
  {
   "cell_type": "code",
   "execution_count": 0,
   "metadata": {
    "colab": {},
    "colab_type": "code",
    "id": "8m6BE6v-IwEg"
   },
   "outputs": [],
   "source": [
    "\"\"\"\n",
    "The function 'train' updates the values of m and c and calculates error. \n",
    "The loss is minimized due to the changed values of m and c.\n",
    "The new values m, c and the minimized error is returned.\n",
    "\"\"\"\n",
    "def train(x, y, m, c, eta):\n",
    "    const = - 2.0/len(y)\n",
    "    ycalc = m * x + c\n",
    "    #Calculate \"delta_m\" and \"delta_c\"\n",
    "    #<YOUR CODE HERE>\n",
    "    m = m - delta_m * eta\n",
    "    c = c - delta_c * eta\n",
    "    error = sum((y - ycalc)**2)/len(y)\n",
    "    return m, c, error\n",
    "\n",
    "\"\"\"\n",
    "The function below trains the data for 1000 iterations. \n",
    "In each iteration it calls the 'train' function to get the updated values of m, c and error.\n",
    "\"\"\"\n",
    "def train_on_all(x, y, m, c, eta, iterations=1000):\n",
    "    for steps in range(iterations):\n",
    "        m, c, err = train(x, y, m, c, eta)\n",
    "    return m, c, err"
   ]
  },
  {
   "cell_type": "markdown",
   "metadata": {
    "colab_type": "text",
    "id": "MHjYX45BIwEj"
   },
   "source": [
    "### Effect of varying LR on error and final line\n",
    "\n",
    "Let us vary LR and find how the error decreases in each case, and how the final line looks, by training each case for the same number of iterations - 2000."
   ]
  },
  {
   "cell_type": "markdown",
   "metadata": {
    "colab_type": "text",
    "id": "XydFY0FzIwEk"
   },
   "source": [
    "### $\\eta$ = 0.1"
   ]
  },
  {
   "cell_type": "code",
   "execution_count": 0,
   "metadata": {
    "colab": {},
    "colab_type": "code",
    "id": "qjQJXM-4IwEl"
   },
   "outputs": [],
   "source": [
    "# Save errors\n",
    "errs_1 = []\n",
    "m, c = 0, 0\n",
    "eta = 0.1\n",
    "# Call the train() method for 2000 iterations to update m and c and get error value with eta = 0.1.\n",
    "for iteration in range(2000):\n",
    "    #Call train function below\n",
    "    m, c, error = #<YOUR CODE HERE>\n",
    "    #append to \"errs_1\" to append the errors for plotting later\n",
    "    #<YOUR CODE HERE>\n",
    "\n",
    "# Save final line\n",
    "m_1, c_1 = m, c"
   ]
  },
  {
   "cell_type": "markdown",
   "metadata": {
    "colab_type": "text",
    "id": "tB40sJhTIwEp"
   },
   "source": [
    "### $\\eta$ = 0.01"
   ]
  },
  {
   "cell_type": "code",
   "execution_count": 0,
   "metadata": {
    "colab": {},
    "colab_type": "code",
    "id": "cyLOvjaLIwEq"
   },
   "outputs": [],
   "source": [
    "errs_01 = []\n",
    "m, c = 0, 0\n",
    "eta = 0.01\n",
    "# Call the train() method for 2000 iterations to update m and c and get error value with eta = 0.01.\n",
    "for iteration in range(2000):\n",
    "    #Call train function below\n",
    "    m, c, error = #<YOUR CODE HERE>\n",
    "    #append to \"errs_01\" to append the errors for plotting later\n",
    "    #<YOUR CODE HERE>\n",
    "\n",
    "# Save final line\n",
    "m_01, c_01 = m, c"
   ]
  },
  {
   "cell_type": "markdown",
   "metadata": {
    "colab_type": "text",
    "id": "E22O2IakIwEt"
   },
   "source": [
    "### $\\eta$ = 0.001"
   ]
  },
  {
   "cell_type": "code",
   "execution_count": 0,
   "metadata": {
    "colab": {},
    "colab_type": "code",
    "id": "Cvl81aceIwEt"
   },
   "outputs": [],
   "source": [
    "errs_001 = []\n",
    "m, c = 0, 0\n",
    "eta = 0.001\n",
    "# Call the train() method for 2000 iterations to update m and c and get error value with eta = 0.001.\n",
    "for iteration in range(2000):\n",
    "    #Call train function below\n",
    "    m, c, error = #<YOUR CODE HERE>\n",
    "    #append to \"errs_001\" to append the errors for plotting later\n",
    "    #<YOUR CODE HERE>\n",
    "\n",
    "# Save final line\n",
    "m_001, c_001 = m, c"
   ]
  },
  {
   "cell_type": "markdown",
   "metadata": {
    "colab_type": "text",
    "id": "SIdlxdYIIwEv"
   },
   "source": [
    "### $\\eta$ = 0.0001"
   ]
  },
  {
   "cell_type": "code",
   "execution_count": 0,
   "metadata": {
    "colab": {},
    "colab_type": "code",
    "id": "Y_e1NK5qIwEw"
   },
   "outputs": [],
   "source": [
    "errs_0001 = []\n",
    "m, c = 0, 0\n",
    "eta = 0.0001\n",
    "# Call the train() method for 2000 iterations to update m and c and get error value with eta = 0.0001. \n",
    "for iteration in range(2000):\n",
    "    #Call train function below\n",
    "    m, c, error = #<YOUR CODE HERE>\n",
    "    #append to \"errs_0001\" to append the errors for plotting later\n",
    "    #<YOUR CODE HERE>\n",
    "\n",
    "# Save final line\n",
    "m_0001, c_0001 = m, c"
   ]
  },
  {
   "cell_type": "markdown",
   "metadata": {
    "colab_type": "text",
    "id": "QNZgQMNZIwE0"
   },
   "source": [
    "## Plot of lines vs $\\eta$"
   ]
  },
  {
   "cell_type": "code",
   "execution_count": 0,
   "metadata": {
    "colab": {},
    "colab_type": "code",
    "id": "XWFue0e6IwE1"
   },
   "outputs": [],
   "source": [
    "# Find the lines\n",
    "y_1 = m_1 * l + c_1\n",
    "y_01 = m_01 * l + c_01\n",
    "y_001 = m_001 * l + c_001\n",
    "y_0001 = m_0001 * l + c_0001"
   ]
  },
  {
   "cell_type": "code",
   "execution_count": 0,
   "metadata": {
    "colab": {},
    "colab_type": "code",
    "id": "LyCs_U80IwE4"
   },
   "outputs": [],
   "source": [
    "plt.figure(figsize=(15, 8))\n",
    "#For all the lines above i.e. y_1, y_01, y_001, y_0001 plot them (in a different color) against the lines \"l\" \n",
    "#<YOUR CODE HERE>\n",
    "plt.legend([\"l vs tsq\",\"eta = 0.1\",\"eta = 0.01\",\"eta = 0.001\",\"eta = 0.0001\"])\n",
    "plt.show()"
   ]
  },
  {
   "cell_type": "markdown",
   "metadata": {
    "colab_type": "text",
    "id": "oWp-qhiZIwE6"
   },
   "source": [
    "Thus, we see that higher learning rates reach the best fit faster than lower learning rates (obviously)."
   ]
  },
  {
   "cell_type": "markdown",
   "metadata": {
    "colab_type": "text",
    "id": "GNyPltb7IwE7"
   },
   "source": [
    "## Plot of errors vs epochs for each $\\eta$"
   ]
  },
  {
   "cell_type": "code",
   "execution_count": 0,
   "metadata": {
    "colab": {},
    "colab_type": "code",
    "id": "ds8LI8XBIwE7"
   },
   "outputs": [],
   "source": [
    "epochs = range(0,2000)\n",
    "plt.figure(figsize=(16,10))\n",
    "#plot \"epochs\" versus errs_1, errs_01, errs_02 (each in a different color)\n",
    "plt.legend([\"eta = 0.1\",\"eta = 0.01\",\"eta = 0.001\",\"eta = 0.0001\"])\n",
    "plt.show()"
   ]
  },
  {
   "cell_type": "markdown",
   "metadata": {
    "colab_type": "text",
    "id": "MqL3Qd4dIwFA"
   },
   "source": [
    "# With LR Decay\n",
    "\n",
    "In some cases, the learning rate might be too high to give good fitting lines. For example, let us train with constant LR of 0.8 and get the final line after 1000 iterations:"
   ]
  },
  {
   "cell_type": "markdown",
   "metadata": {
    "colab_type": "text",
    "id": "eoW3VvR8IwFB"
   },
   "source": [
    "### $\\eta$ = 0.8"
   ]
  },
  {
   "cell_type": "code",
   "execution_count": 0,
   "metadata": {
    "colab": {},
    "colab_type": "code",
    "id": "A_Z-use6IwFC"
   },
   "outputs": [],
   "source": [
    "errs = []\n",
    "m, c = 0, 0\n",
    "eta = 0.8\n",
    "# Call the train() method for 1000 iterations to update m and c and get error value with constant eta = 0.8.\n",
    "for times in range(1000):\n",
    "    #Call train function below\n",
    "    m, c, error = #<YOUR CODE HERE>\n",
    "    #append to \"errs\" to append the errors for plotting later\n",
    "    #<YOUR CODE HERE>\n",
    "\n",
    "    \n",
    "m_normal, c_normal = m, c"
   ]
  },
  {
   "cell_type": "markdown",
   "metadata": {
    "colab_type": "text",
    "id": "TjmDAryWIwFG"
   },
   "source": [
    "Let us see the plot of error vs iterations:"
   ]
  },
  {
   "cell_type": "code",
   "execution_count": 0,
   "metadata": {
    "colab": {},
    "colab_type": "code",
    "id": "s0N0o3NKIwFH"
   },
   "outputs": [],
   "source": [
    "plt.plot(range(len(errs)), errs)\n",
    "plt.xlabel(\"Iterations\")\n",
    "plt.ylabel(\"Error\")\n",
    "plt.show()"
   ]
  },
  {
   "cell_type": "markdown",
   "metadata": {
    "colab_type": "text",
    "id": "yN5_kJn0IwFJ"
   },
   "source": [
    "We see that the error quickly goes to almost 0, but after some iterations blows up.\n",
    "\n",
    "Let us check the \"best fit\" line that is found:"
   ]
  },
  {
   "cell_type": "code",
   "execution_count": 0,
   "metadata": {
    "colab": {},
    "colab_type": "code",
    "id": "DXumozZ-IwFL"
   },
   "outputs": [],
   "source": [
    "print(\"m = {0:.6} c = {1:.6} Error = {2:.6}\".format(m_normal, c_normal, errs[-1]))"
   ]
  },
  {
   "cell_type": "code",
   "execution_count": 0,
   "metadata": {
    "colab": {},
    "colab_type": "code",
    "id": "5zB7RTTOIwFM"
   },
   "outputs": [],
   "source": [
    "y = m_normal * l + c_normal \n",
    "plt.plot(l, tsq, '.k', label = 'Actual')\n",
    "plt.plot(l,y,\"r\", label = 'Prediction')\n",
    "plt.xlabel(\"Length (L)\")\n",
    "plt.ylabel(\"T^2\")\n",
    "plt.legend()\n",
    "plt.show()"
   ]
  },
  {
   "cell_type": "markdown",
   "metadata": {
    "colab_type": "text",
    "id": "Fqmvtu-_IwFQ"
   },
   "source": [
    "Clearly this is not ideal.\n",
    "\n",
    "This was a simple case where we can see the learning rate is too high. There might be cases where it is not so simple to identify this. Also, having a low learning rate is not good because training time would be too high!\n",
    "\n",
    "**Solution: Decay the learning rate.**\n",
    "\n",
    "Now let us train another model with decaying lr. But let us not decay lr below 0.0001."
   ]
  },
  {
   "cell_type": "code",
   "execution_count": 0,
   "metadata": {
    "colab": {},
    "colab_type": "code",
    "id": "edZDbSyBIwFR"
   },
   "outputs": [],
   "source": [
    "errs_decay = []\n",
    "m, c = 0, 0\n",
    "eta = 0.5\n",
    "decay_factor = 0.99\n",
    "# Call the train() method for 1000 iterations to update m and c and get error value with decaying eta.\n",
    "for iteration in range(1000):\n",
    "    eta = max(0.0001, eta * decay_factor)\n",
    "    #Call train function below\n",
    "    m, c, error = #<YOUR CODE HERE>\n",
    "    #append to \"errs\" to append the errors for plotting later\n",
    "    #<YOUR CODE HERE>\n",
    "\n",
    "\n",
    "m_decay, c_decay = m, c"
   ]
  },
  {
   "cell_type": "code",
   "execution_count": 0,
   "metadata": {
    "colab": {},
    "colab_type": "code",
    "id": "xbEAsf4cIwFS"
   },
   "outputs": [],
   "source": [
    "print(\"m = {0:.6} c = {1:.6} Error = {2:.6}\".format(m_decay, c_decay, errs_decay[-1]))"
   ]
  },
  {
   "cell_type": "markdown",
   "metadata": {
    "colab_type": "text",
    "id": "clqa9StFVKqP"
   },
   "source": [
    "Let us see the plot of error vs iterations:"
   ]
  },
  {
   "cell_type": "code",
   "execution_count": 0,
   "metadata": {
    "colab": {},
    "colab_type": "code",
    "id": "WNUxY6ZyIwFV"
   },
   "outputs": [],
   "source": [
    "plt.plot(range(len(errs_decay)), errs_decay)\n",
    "plt.xlabel(\"Iterations\")\n",
    "plt.ylabel(\"Error\")\n",
    "plt.show()"
   ]
  },
  {
   "cell_type": "code",
   "execution_count": 0,
   "metadata": {
    "colab": {},
    "colab_type": "code",
    "id": "fRoeB71EIwFW"
   },
   "outputs": [],
   "source": [
    "y = m_decay * l + c_decay \n",
    "plt.plot(l, tsq, '.k')\n",
    "plt.plot(l,y,\"r\")\n",
    "plt.show()"
   ]
  },
  {
   "cell_type": "markdown",
   "metadata": {
    "colab_type": "text",
    "id": "djZn9yLqIwFa"
   },
   "source": [
    "Thus, this is correct."
   ]
  },
  {
   "cell_type": "markdown",
   "metadata": {
    "colab_type": "text",
    "id": "Go5quY3c66w7"
   },
   "source": [
    "### Please answer the questions below to complete the experiment:"
   ]
  },
  {
   "cell_type": "code",
   "execution_count": 0,
   "metadata": {
    "colab": {},
    "colab_type": "code",
    "id": "f-bZhl8VoIGg"
   },
   "outputs": [],
   "source": [
    "#@title Gradient descent always finds the global minima? { run: \"auto\", form-width: \"500px\", display-mode: \"form\" }\n",
    "Answer = \"\" #@param [\"True\",\"False\"]\n"
   ]
  },
  {
   "cell_type": "code",
   "execution_count": 0,
   "metadata": {
    "colab": {},
    "colab_type": "code",
    "id": "f6XkwFo0IwFb"
   },
   "outputs": [],
   "source": [
    "#@title How was the experiment? { run: \"auto\", form-width: \"500px\", display-mode: \"form\" }\n",
    "Complexity = \"\" #@param [\"Too Simple, I am wasting time\", \"Good, But Not Challenging for me\", \"Good and Challenging me\", \"Was Tough, but I did it\", \"Too Difficult for me\"]\n"
   ]
  },
  {
   "cell_type": "code",
   "execution_count": 0,
   "metadata": {
    "colab": {},
    "colab_type": "code",
    "id": "7eWGLStgIwFd"
   },
   "outputs": [],
   "source": [
    "#@title If it was very easy, what more you would have liked to have been added? If it was very difficult, what would you have liked to have been removed? { run: \"auto\", display-mode: \"form\" }\n",
    "Additional = \"\" #@param {type:\"string\"}"
   ]
  },
  {
   "cell_type": "code",
   "execution_count": 0,
   "metadata": {
    "colab": {},
    "colab_type": "code",
    "id": "hcuvkhRq7K-i"
   },
   "outputs": [],
   "source": [
    "#@title Can you identify the concepts from the lecture which this experiment covered? { run: \"auto\", vertical-output: true, display-mode: \"form\" }\n",
    "Concepts = \"\" #@param [\"Yes\", \"No\"]"
   ]
  },
  {
   "cell_type": "code",
   "execution_count": 0,
   "metadata": {
    "cellView": "form",
    "colab": {},
    "colab_type": "code",
    "id": "8wBBpKKU7Nte"
   },
   "outputs": [],
   "source": [
    "#@title Run this cell to submit your notebook for grading { vertical-output: true }\n",
    "try:\n",
    "  if submission_id:\n",
    "      return_id = submit_notebook()\n",
    "      if return_id : submission_id =return_id\n",
    "  else:\n",
    "      print(\"Please complete the setup first.\")\n",
    "except NameError:\n",
    "  print (\"Please complete the setup first.\")"
   ]
  }
 ],
 "metadata": {
  "colab": {
   "collapsed_sections": [],
   "name": "M1_002_BatchGD_LRdecay_B.ipynb",
   "provenance": [
    {
     "file_id": "1ga88fRoXmt9BRzgWvgj2kWoMoLNrBUMm",
     "timestamp": 1548224580383
    }
   ],
   "version": "0.3.2"
  },
  "kernelspec": {
   "display_name": "Python 3",
   "language": "python",
   "name": "python3"
  },
  "language_info": {
   "codemirror_mode": {
    "name": "ipython",
    "version": 3
   },
   "file_extension": ".py",
   "mimetype": "text/x-python",
   "name": "python",
   "nbconvert_exporter": "python",
   "pygments_lexer": "ipython3",
   "version": "3.5.0"
  }
 },
 "nbformat": 4,
 "nbformat_minor": 1
}

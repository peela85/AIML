{
 "cells": [
  {
   "cell_type": "markdown",
   "metadata": {
    "colab_type": "text",
    "id": "UERx5ALuTJW_"
   },
   "source": [
    "# Advanced Certification in AIML\n",
    "## A Program by IIIT-H and TalentSprint"
   ]
  },
  {
   "cell_type": "markdown",
   "metadata": {
    "colab_type": "text",
    "id": "aE5xNmtpBcT4"
   },
   "source": [
    "## Learning Objective:"
   ]
  },
  {
   "cell_type": "markdown",
   "metadata": {
    "colab_type": "text",
    "id": "K_UItlExBcPR"
   },
   "source": [
    "   \n",
    "  At the end of the experiment, you will be able to :\n",
    "    \n",
    "  * Understand various types of gradient descent approaches (Stochastic, Mini-Batch Gradient Descent) and there differences.\n"
   ]
  },
  {
   "cell_type": "code",
   "execution_count": 0,
   "metadata": {
    "cellView": "form",
    "colab": {},
    "colab_type": "code",
    "id": "lo6h67YIkEKp"
   },
   "outputs": [],
   "source": [
    "#@title Experiment Walkthrough\n",
    "#@markdown Gradient descent and learning rate variations\n",
    "from IPython.display import HTML\n",
    "HTML(\"\"\"<video width='520' height='240' controls>\n",
    "<source src=\"https://cdn.talentsprint.com/aiml/AIML_BATCH_HYD_7/Week_1/stochastic_minibatch_gradient_descent.mp4\" type='video/mp4'>\n",
    "</video>\"\"\")"
   ]
  },
  {
   "cell_type": "markdown",
   "metadata": {
    "colab_type": "text",
    "id": "2U7msw6GTJXB"
   },
   "source": [
    "## Dataset"
   ]
  },
  {
   "cell_type": "markdown",
   "metadata": {
    "colab_type": "text",
    "id": "PBplK_Hbw_EN"
   },
   "source": [
    "### Description"
   ]
  },
  {
   "cell_type": "markdown",
   "metadata": {
    "colab_type": "text",
    "id": "mDRTMSzJTJXD"
   },
   "source": [
    "\n",
    "The dataset consists of two columns and 89 rows. Each column represents a characteristic of a simple pendulum i.e l (length) and t (time period). The dataset describes the relationship between the l and t which is  L∝T2 .\n"
   ]
  },
  {
   "cell_type": "markdown",
   "metadata": {
    "colab_type": "text",
    "id": "Z8WpDaz2CukI"
   },
   "source": [
    "##AI/ML Technique"
   ]
  },
  {
   "cell_type": "markdown",
   "metadata": {
    "colab_type": "text",
    "id": "1jAMa55_xLmA"
   },
   "source": [
    "#### Gradient Descent\n",
    "\n",
    "Gradient Descent is used while training a machine learning model. It is an optimization algorithm, based on a convex function, that tweaks it’s parameters iteratively to minimize a given function to its local minimum.\n",
    "\n",
    "To know more about Gradient Descent and its variants you can refer the below link:\n",
    "\n",
    "https://towardsdatascience.com/gradient-descent-in-a-nutshell-eaf8c18212f0"
   ]
  },
  {
   "cell_type": "markdown",
   "metadata": {
    "colab_type": "text",
    "id": "zrwxriGkxNKp"
   },
   "source": [
    "## Keywords"
   ]
  },
  {
   "cell_type": "markdown",
   "metadata": {
    "colab_type": "text",
    "id": "mhOdzhI9TJXF"
   },
   "source": [
    "\n",
    "\n",
    "* Stochastic Gradient Descent\n",
    "* Scipy\n",
    "* Sklearn\n",
    "* mini batch Gradient Descent\n",
    "* Plotting Error vs Iteration"
   ]
  },
  {
   "cell_type": "markdown",
   "metadata": {
    "colab_type": "text",
    "id": "s0Mvlz1fTJXF"
   },
   "source": [
    "#### Expected Time : 90 mins"
   ]
  },
  {
   "cell_type": "markdown",
   "metadata": {
    "colab_type": "text",
    "id": "fCtf1KWE40lx"
   },
   "source": [
    "### Setup Steps"
   ]
  },
  {
   "cell_type": "code",
   "execution_count": 0,
   "metadata": {
    "colab": {},
    "colab_type": "code",
    "id": "98uM_xF8426S"
   },
   "outputs": [],
   "source": [
    "#@title Please enter your registration id to start: (e.g. P181900101) { run: \"auto\", display-mode: \"form\" }\n",
    "Id = \"\" #@param {type:\"string\"}\n"
   ]
  },
  {
   "cell_type": "code",
   "execution_count": 0,
   "metadata": {
    "colab": {},
    "colab_type": "code",
    "id": "Km69XLfr5BGc"
   },
   "outputs": [],
   "source": [
    "#@title Please enter your password (normally your phone number) to continue: { run: \"auto\", display-mode: \"form\" }\n",
    "password = \"\" #@param {type:\"string\"}\n"
   ]
  },
  {
   "cell_type": "code",
   "execution_count": 0,
   "metadata": {
    "cellView": "form",
    "colab": {},
    "colab_type": "code",
    "id": "7Xp91vRMpNo1"
   },
   "outputs": [],
   "source": [
    "#@title Run this cell to complete the setup for this Notebook\n",
    "from IPython import get_ipython\n",
    "\n",
    "ipython = get_ipython()\n",
    "  \n",
    "notebook=\"M1W1_003_Stochastic_Minibatch_GD_C\" #name of the notebook\n",
    "\n",
    "def setup():\n",
    "#  ipython.magic(\"sx pip3 install torch\") \n",
    "    ipython.magic(\"sx wget https://cdn.talentsprint.com/aiml/Experiment_related_data/week1/Exp1/AIML_DS_REGR01_SIMPLEPENDULUMOSCILLATIONDATA.txt\")\n",
    "    from IPython.display import HTML, display\n",
    "    display(HTML('<script src=\"https://dashboard.talentsprint.com/aiml/record_ip.html?traineeId={0}&recordId={1}\"></script>'.format(getId(),submission_id)))\n",
    "    print(\"Setup completed successfully\")\n",
    "    return\n",
    "\n",
    "def submit_notebook():\n",
    "    \n",
    "    ipython.magic(\"notebook -e \"+ notebook + \".ipynb\")\n",
    "    \n",
    "    import requests, json, base64, datetime\n",
    "\n",
    "    url = \"https://dashboard.talentsprint.com/xp/app/save_notebook_attempts\"\n",
    "    if not submission_id:\n",
    "      data = {\"id\" : getId(), \"notebook\" : notebook, \"mobile\" : getPassword()}\n",
    "      r = requests.post(url, data = data)\n",
    "      r = json.loads(r.text)\n",
    "\n",
    "      if r[\"status\"] == \"Success\":\n",
    "          return r[\"record_id\"]\n",
    "      elif \"err\" in r:        \n",
    "        print(r[\"err\"])\n",
    "        return None        \n",
    "      else:\n",
    "        print (\"Something is wrong, the notebook will not be submitted for grading\")\n",
    "        return None\n",
    "\n",
    "    elif getAnswer() and getComplexity() and getAdditional() and getConcepts():\n",
    "      f = open(notebook + \".ipynb\", \"rb\")\n",
    "      file_hash = base64.b64encode(f.read())\n",
    "\n",
    "      data = {\"complexity\" : Complexity, \"additional\" :Additional, \n",
    "              \"concepts\" : Concepts, \"record_id\" : submission_id, \n",
    "              \"answer\" : Answer, \"id\" : Id, \"file_hash\" : file_hash,\n",
    "              \"notebook\" : notebook}\n",
    "\n",
    "      r = requests.post(url, data = data)\n",
    "      r = json.loads(r.text)\n",
    "      print(\"Your submission is successful.\")\n",
    "      print(\"Ref Id:\", submission_id)\n",
    "      print(\"Date of submission: \", r[\"date\"])\n",
    "      print(\"Time of submission: \", r[\"time\"])\n",
    "      print(\"View your submissions: https://iiith-aiml.talentsprint.com/notebook_submissions\")\n",
    "      print(\"For any queries/discrepancies, please connect with mentors through the chat icon in LMS dashboard.\")\n",
    "      return submission_id\n",
    "    else: submission_id\n",
    "    \n",
    "\n",
    "def getAdditional():\n",
    "  try:\n",
    "    if Additional: return Additional      \n",
    "    else: raise NameError('')\n",
    "  except NameError:\n",
    "    print (\"Please answer Additional Question\")\n",
    "    return None\n",
    "\n",
    "def getComplexity():\n",
    "  try:\n",
    "    return Complexity\n",
    "  except NameError:\n",
    "    print (\"Please answer Complexity Question\")\n",
    "    return None\n",
    "  \n",
    "def getConcepts():\n",
    "  try:\n",
    "    return Concepts\n",
    "  except NameError:\n",
    "    print (\"Please answer Concepts Question\")\n",
    "    return None\n",
    "\n",
    "def getAnswer():\n",
    "  try:\n",
    "    return Answer\n",
    "  except NameError:\n",
    "    print (\"Please answer Question\")\n",
    "    return None\n",
    "\n",
    "def getId():\n",
    "  try: \n",
    "    return Id if Id else None\n",
    "  except NameError:\n",
    "    return None\n",
    "\n",
    "def getPassword():\n",
    "  try:\n",
    "    return password if password else None\n",
    "  except NameError:\n",
    "    return None\n",
    "\n",
    "submission_id = None\n",
    "### Setup \n",
    "if getPassword() and getId():\n",
    "  submission_id = submit_notebook()\n",
    "  if submission_id:\n",
    "    setup()\n",
    "    from IPython.display import HTML\n",
    "    HTML('<script src=\"https://dashboard.talentsprint.com/aiml/record_ip.html?traineeId={0}&recordId={1}\"></script>'.format(getId(),submission_id))\n",
    "  \n",
    "else:\n",
    "  print (\"Please complete Id and Password cells before running setup\")\n",
    "\n"
   ]
  },
  {
   "cell_type": "code",
   "execution_count": 0,
   "metadata": {
    "colab": {},
    "colab_type": "code",
    "id": "sRjAjk1hTJXM"
   },
   "outputs": [],
   "source": [
    "# Import the required Packages\n",
    "import pandas as pd\n",
    "import numpy as np\n",
    "import scipy.stats as stat\n",
    "%matplotlib notebook\n",
    "from  matplotlib import pyplot as plt\n",
    "import random\n",
    "import time\n"
   ]
  },
  {
   "cell_type": "markdown",
   "metadata": {
    "colab_type": "text",
    "id": "GLdAeF_tTJXR"
   },
   "source": [
    "### Read the data"
   ]
  },
  {
   "cell_type": "code",
   "execution_count": 0,
   "metadata": {
    "colab": {},
    "colab_type": "code",
    "id": "YDNrlfakTJXS"
   },
   "outputs": [],
   "source": [
    "# Load the data by using pandas read_csv()\n",
    "data = pd.read_csv(\"AIML_DS_REGR01_SIMPLEPENDULUMOSCILLATIONDATA.txt\", sep=\" \", header=None, names=['l', 't'])\n",
    "# Print the first 5 rows of dataframe 'data'\n",
    "print(data.head())\n",
    "# Print the last 5 rows of dataframe 'data'\n",
    "print(data.tail())"
   ]
  },
  {
   "cell_type": "code",
   "execution_count": 0,
   "metadata": {
    "colab": {},
    "colab_type": "code",
    "id": "QTtgOro7TJXT"
   },
   "outputs": [],
   "source": [
    "# Get the length and time period values from the dataset\n",
    "l = data['l'].values\n",
    "t = data['t'].values\n",
    "# Get the square of time period\n",
    "tsq = t * t"
   ]
  },
  {
   "cell_type": "markdown",
   "metadata": {
    "colab_type": "text",
    "id": "srgyaBxoTJXW"
   },
   "source": [
    "**Stochastic gradient descent (Single sample)**\n",
    "\n",
    "Instead of computing the sum of all gradients, stochastic gradient descent selects an observation uniformly at random."
   ]
  },
  {
   "cell_type": "markdown",
   "metadata": {
    "colab_type": "text",
    "id": "hpHa2ZwyTJXX"
   },
   "source": [
    " $y_i = mx_i + c$\n",
    "\n",
    "$E$ = $(y - y_i)^2$\n",
    "\n",
    "$\\frac{\\partial E }{\\partial m}$ = $ -(y - (mx_i + c)) * x_i$\n",
    "\n",
    "$\\frac{\\partial E }{\\partial c}$ = $ -(y - (mx_i + c))$"
   ]
  },
  {
   "cell_type": "code",
   "execution_count": 0,
   "metadata": {
    "colab": {},
    "colab_type": "code",
    "id": "hUq_mCNLTJXY"
   },
   "outputs": [],
   "source": [
    "\"\"\"\n",
    "The function 'next_step' updates the values of m and c and calculates error. \n",
    "The loss is minimized due to the changed values of m and c.\n",
    "The new values m, c and the minimized loss is returned.\n",
    "\"\"\"\n",
    "def next_step(x, y, m, c, eta):\n",
    "    ycalc = m * x + c\n",
    "    error = (y - ycalc) ** 2\n",
    "    delta_m = -(y - ycalc) * x\n",
    "    delta_c = -(y - ycalc)\n",
    "    m = m - delta_m * eta\n",
    "    c = c - delta_c * eta\n",
    "    return m, c, error\n",
    "\n",
    "\"\"\"\n",
    "The function below takes a random index and at that index idx, we calculate the values of m,c and error.\n",
    "We use one data point at a time x[idx],y[idx]\n",
    "Here we call the funtion 'next_step' to which we pass a data point x[idx],y[idx]\n",
    "\"\"\"\n",
    "def one_loop_random(x, y, m, c, eta):\n",
    "    # Making random idx\n",
    "    random_idx = np.arange(len(y))\n",
    "    np.random.shuffle(random_idx)\n",
    "    # Training with random idx\n",
    "    for idx in random_idx:\n",
    "        m, c, e = next_step(x[idx], y[idx], m, c, eta)\n",
    "        #print(m, c, e)\n",
    "    return m,c,e\n",
    "  \n",
    "\"\"\"\n",
    "The function below trains the data for 1000 iterations. \n",
    "In each iteration it calls the 'one_loop_random' function.\n",
    "\"\"\"\n",
    "def train_stochastic(x, y, m, c, eta, iterations=1000):\n",
    "    for iteration in range(iterations):\n",
    "        m, c, err = one_loop_random(x, y, m, c, eta)\n",
    "    return m, c, err"
   ]
  },
  {
   "cell_type": "markdown",
   "metadata": {
    "colab_type": "text",
    "id": "HM2O8HtFTJXa"
   },
   "source": [
    "## TRAIN"
   ]
  },
  {
   "cell_type": "code",
   "execution_count": 0,
   "metadata": {
    "colab": {},
    "colab_type": "code",
    "id": "JlR-YQJoTJXd"
   },
   "outputs": [],
   "source": [
    "# Init m, c\n",
    "m, c = 0, 0"
   ]
  },
  {
   "cell_type": "code",
   "execution_count": 0,
   "metadata": {
    "colab": {},
    "colab_type": "code",
    "id": "kijRetDpTJXg"
   },
   "outputs": [],
   "source": [
    "# Learning rate\n",
    "lr = 0.001"
   ]
  },
  {
   "cell_type": "code",
   "execution_count": 0,
   "metadata": {
    "colab": {},
    "colab_type": "code",
    "id": "8FDMh5YtTJXk"
   },
   "outputs": [],
   "source": [
    "# Training for 1000 iterations, plotting after every 100 iterations:\n",
    "%matplotlib inline\n",
    "fig = plt.figure(figsize=(5, 5))\n",
    "ax = fig.add_subplot(111)\n",
    "plt.ion()\n",
    "fig.show()\n",
    "fig.canvas.draw()\n",
    "\n",
    "# Call the train_stochastic() method to update m and c and get error value with lr = 0.001.\n",
    "for num in range(10):\n",
    "    m, c, error = train_stochastic(l, tsq, m, c, lr, iterations=100) # We will plot the error values for every 100 iterations\n",
    "    print(\"m = {0:.6} c = {1:.6} Error = {2:.6}\".format(m, c, error))\n",
    "    y = m * l + c\n",
    "    ax.clear()\n",
    "    ax.plot(l, tsq, '.k')\n",
    "    ax.plot(l, y)\n",
    "    fig.canvas.draw()\n",
    "    time.sleep(1)"
   ]
  },
  {
   "cell_type": "markdown",
   "metadata": {
    "colab_type": "text",
    "id": "HCVJrwLQTJXo"
   },
   "source": [
    "**Ungraded Exercise 1: Experiment with other lr values.**\n",
    "\n"
   ]
  },
  {
   "cell_type": "code",
   "execution_count": 0,
   "metadata": {
    "colab": {},
    "colab_type": "code",
    "id": "7vU_e7ilTJXo"
   },
   "outputs": [],
   "source": [
    "##Your Code Here"
   ]
  },
  {
   "cell_type": "markdown",
   "metadata": {
    "colab_type": "text",
    "id": "7GRP1Ge9TJXr"
   },
   "source": [
    "**Ungraded Exercise 2: plot Errors vs Iterations**"
   ]
  },
  {
   "cell_type": "code",
   "execution_count": 0,
   "metadata": {
    "colab": {},
    "colab_type": "code",
    "id": "SXceKp3zTJXs"
   },
   "outputs": [],
   "source": [
    "# Your Code Here\n",
    "ms, cs,errs = [], [], []\n",
    "m, c = 0, 0\n",
    "lr = 0.001\n",
    "\n",
    "# Call the train_stochastic() method to update m and c and get error value with lr = 0.001.\n",
    "for times in range(100):\n",
    "    m, c, error = train_stochastic(l, tsq, m, c, lr, iterations=100) # We will plot the error values for every 100 iterations\n",
    "    ms.append(m)\n",
    "    cs.append(c)\n",
    "    errs.append(error)\n"
   ]
  },
  {
   "cell_type": "code",
   "execution_count": 0,
   "metadata": {
    "colab": {},
    "colab_type": "code",
    "id": "BDP56TXzywXx"
   },
   "outputs": [],
   "source": [
    "### Your Code Here"
   ]
  },
  {
   "cell_type": "markdown",
   "metadata": {
    "colab_type": "text",
    "id": "y9rIMmaMTJXv"
   },
   "source": [
    "**Ungraded Exercise 3 : Is this better than sequential gradient descent and vanilla gradient descent?**\n",
    "\n",
    "Hint - check the error value at saturation, and time it takes to reach saturation."
   ]
  },
  {
   "cell_type": "code",
   "execution_count": 0,
   "metadata": {
    "colab": {},
    "colab_type": "code",
    "id": "_jhCKU75TJXv"
   },
   "outputs": [],
   "source": [
    "#### Last Error at saturation: 0.004"
   ]
  },
  {
   "cell_type": "markdown",
   "metadata": {
    "colab_type": "text",
    "id": "UwIZ7tuZTJXx"
   },
   "source": [
    "## PROBLEM\n",
    "\n",
    "Problem with Sequential/Stochastic Gradient Descent is it does not scale well - it makes the same calculation of gradient descent on each sample. So the time taken will increase linearly with the number of samples. Many datasets have samples in the range of millions. Hence, even though it gives good results, it is not ideal.\n",
    "\n",
    "We need a gradient descent formulation that gives the speed of vanilla gradient descent and the accuracy of sequential/stochastic gradient descent.\n",
    "\n",
    "Next we will see **Minibatch Gradient Descent!**"
   ]
  },
  {
   "cell_type": "markdown",
   "metadata": {
    "colab_type": "text",
    "id": "m3S-IvdHTJXx"
   },
   "source": [
    "### Minibatch Gradient Descent"
   ]
  },
  {
   "cell_type": "markdown",
   "metadata": {
    "colab_type": "text",
    "id": "ZT6lGuO8TJXy"
   },
   "source": [
    "In Mini-Batch Gradient Descent algorithm, rather than using  the complete data set, in every iteration we use a subset of training examples (called \"batch\") to compute the gradient of the cost function. \n",
    "\n",
    "Common mini-batch sizes range between 50 and 256, but can vary for different applications."
   ]
  },
  {
   "cell_type": "markdown",
   "metadata": {
    "colab_type": "text",
    "id": "8IWur68qTJXz"
   },
   "source": [
    "one_batch() : we will be calculating the essenial parts of the Gradient Descent method:  \n",
    "\n",
    "$y_i = mx_i + c$\n",
    "        \n",
    "$E$ =$\\frac{1}{n}$   $\\sum_{i=1}^n (y - y_i)^2$\n",
    "\n",
    "$\\frac{\\partial E }{\\partial m}$ = $\\frac{2}{n}$   $\\sum_{i=1}^n  -x_i(y - (mx_i + c))$\n",
    " \n",
    "$\\frac{\\partial E}{\\partial c}$ = $\\frac{2}{n}$   $\\sum_{i=1}^n  -(y - (mx_i + c))$"
   ]
  },
  {
   "cell_type": "markdown",
   "metadata": {
    "colab_type": "text",
    "id": "mJgPCef6TJXz"
   },
   "source": [
    "one_step() : We will be splitting our data into batches."
   ]
  },
  {
   "cell_type": "code",
   "execution_count": 0,
   "metadata": {
    "colab": {},
    "colab_type": "code",
    "id": "JkRMHxA2TJX0"
   },
   "outputs": [],
   "source": [
    "\"\"\"\n",
    "The function 'train_one_batch' updates the values of m and c and calculates error. \n",
    "The loss is minimized due to the changed values of m and c.\n",
    "The new values m, c and the minimized loss is returned.\n",
    "\"\"\"\n",
    "def train_one_batch(x, y, m, c, eta):\n",
    "    const = - 2.0/len(y)\n",
    "    ycalc = m * x + c\n",
    "    delta_m = const * sum(x * (y - ycalc))\n",
    "    delta_c = const * sum(y - ycalc)\n",
    "    m = m - delta_m * eta\n",
    "    c = c - delta_c * eta\n",
    "    error = sum((y - ycalc)**2)/len(y)\n",
    "    return m, c, error\n",
    "\n",
    "\"\"\"\n",
    "The function below takes a batch_size and loss is calculated w.r.t batches.\n",
    "The batches are created using random index.\n",
    "The m, c and error values are calculated for each batch of data.\n",
    "So, it calls the function 'train_one_batch' by passing batch_x, batch_y for each batch.\n",
    "\"\"\"\n",
    "def train_batches(x, y, m, c, eta, batch_size):\n",
    "    # Making the batches\n",
    "    random_idx = np.arange(len(y))\n",
    "    np.random.shuffle(random_idx)\n",
    "    \n",
    "    # Train each batch\n",
    "    for batch in range(len(y)//batch_size):\n",
    "        batch_idx = random_idx[batch*batch_size:(batch+1)*batch_size]\n",
    "        batch_x = x[batch_idx]\n",
    "        batch_y = y[batch_idx]\n",
    "        m, c, err = train_one_batch(batch_x, batch_y, m, c, eta)\n",
    "    \n",
    "    return m, c, err\n",
    "\n",
    "\"\"\"\n",
    "The function below trains the data for 1000 iterations. \n",
    "The data is traversed in batches, the batch size here is considered to be 10.\n",
    "In each iteration it calls the 'train_batches' function. \n",
    "The 'batch_size' is passed as a parameter to 'train_batches'.\n",
    "\"\"\"\n",
    "def train_minibatch(x, y, m, c, eta, batch_size=10, iterations=1000):\n",
    "    for iteration in range(iterations):\n",
    "        m, c, err = train_batches(x, y, m, c, eta, batch_size)\n",
    "    return m, c, err\n"
   ]
  },
  {
   "cell_type": "markdown",
   "metadata": {
    "colab_type": "text",
    "id": "-BLipYesTJX4"
   },
   "source": [
    "#### TRAIN"
   ]
  },
  {
   "cell_type": "code",
   "execution_count": 0,
   "metadata": {
    "colab": {},
    "colab_type": "code",
    "id": "oAsrGHdLTJX4"
   },
   "outputs": [],
   "source": [
    "# Init m, c\n",
    "m, c = 0, 0"
   ]
  },
  {
   "cell_type": "code",
   "execution_count": 0,
   "metadata": {
    "colab": {},
    "colab_type": "code",
    "id": "BXm2ZSEwTJX8"
   },
   "outputs": [],
   "source": [
    "# Learning rate\n",
    "lr = 0.001"
   ]
  },
  {
   "cell_type": "code",
   "execution_count": 0,
   "metadata": {
    "colab": {},
    "colab_type": "code",
    "id": "c0ejZ17GTJX_"
   },
   "outputs": [],
   "source": [
    "# Batch size\n",
    "batch_size = 10"
   ]
  },
  {
   "cell_type": "code",
   "execution_count": 0,
   "metadata": {
    "colab": {},
    "colab_type": "code",
    "id": "3Y-XhUFqTJYB"
   },
   "outputs": [],
   "source": [
    "%matplotlib inline\n",
    "# Training for 1000 iterations, plotting after every 100 iterations:\n",
    "fig = plt.figure(figsize=(5, 5))\n",
    "ax = fig.add_subplot(111)\n",
    "plt.ion()\n",
    "fig.show()\n",
    "fig.canvas.draw()\n",
    "\n",
    "# Call the train_minibatch() method to update m and c and get error value with lr = 0.001 and batch_size=90.\n",
    "for num in range(10):\n",
    "    m, c, error = train_minibatch(l, tsq, m, c, lr, batch_size=90, iterations=100) # We will plot the error values for every 100 iterations\n",
    "    print(\"m = {0:.6} c = {1:.6} Error = {2:.6}\".format(m, c, error))\n",
    "    y = m * l + c\n",
    "    ax.clear()\n",
    "    ax.plot(l, tsq, '.k')\n",
    "    ax.plot(l, y)\n",
    "    fig.canvas.draw()\n",
    "    time.sleep(1)"
   ]
  },
  {
   "cell_type": "markdown",
   "metadata": {
    "colab_type": "text",
    "id": "bPrP3o7JTJYF"
   },
   "source": [
    "**Ungraded Exercise 4: Experiment with other lr values.**"
   ]
  },
  {
   "cell_type": "code",
   "execution_count": 0,
   "metadata": {
    "colab": {},
    "colab_type": "code",
    "id": "zmQ_eNyQTJYG"
   },
   "outputs": [],
   "source": [
    "## Your Code Here"
   ]
  },
  {
   "cell_type": "markdown",
   "metadata": {
    "colab_type": "text",
    "id": "stwbu3wYTJYI"
   },
   "source": [
    "**Ungraded Exercise 5: Experiment with other batch_size values.**"
   ]
  },
  {
   "cell_type": "code",
   "execution_count": 0,
   "metadata": {
    "colab": {},
    "colab_type": "code",
    "id": "uBUcyH_QTJYJ"
   },
   "outputs": [],
   "source": [
    "## Your Code Here"
   ]
  },
  {
   "cell_type": "markdown",
   "metadata": {
    "colab_type": "text",
    "id": "vIFFYGKnTJYL"
   },
   "source": [
    "\n",
    "#### Plotting error vs iterations"
   ]
  },
  {
   "cell_type": "code",
   "execution_count": 0,
   "metadata": {
    "colab": {},
    "colab_type": "code",
    "id": "OhcEs6pVTJYL"
   },
   "outputs": [],
   "source": [
    "%matplotlib inline\n",
    "\n",
    "ms, cs,errs = [], [], []\n",
    "m, c = 0, 0\n",
    "lr = 0.001\n",
    "batch_size = 10\n",
    "\n",
    "# Call the train_minibatch() method to update m and c and get error value with lr = 0.001 and batch_size = 10.\n",
    "for times in range(100):\n",
    "    m, c, error = train_minibatch(l, tsq, m, c, lr, batch_size, iterations=100) # We will plot the error values for every 100 iterations\n",
    "    ms.append(m)\n",
    "    cs.append(c)\n",
    "    \n",
    "    errs.append(error)\n",
    "    \n",
    "# plot Errors vs Iterations\n",
    "epoch = range(0, 10000, 100)\n",
    "plt.figure(figsize=(8, 5))\n",
    "plt.plot(epoch, errs)\n",
    "plt.xlabel(\"Iterations\")\n",
    "plt.ylabel(\"Error\")\n",
    "plt.title(\"Minibatch Gradient Descent\")\n",
    "plt.show()"
   ]
  },
  {
   "cell_type": "markdown",
   "metadata": {
    "colab_type": "text",
    "id": "rYuMICffTJYU"
   },
   "source": [
    "**Ungraded Exercise 6: Is this better than sequential gradient descent and vanilla gradient descent?**\n",
    "\n",
    "Hint - check the error value at saturation, and time it takes to reach saturation."
   ]
  },
  {
   "cell_type": "code",
   "execution_count": 0,
   "metadata": {
    "colab": {},
    "colab_type": "code",
    "id": "sYqSG6SJTJYV"
   },
   "outputs": [],
   "source": [
    "#### Last Error at saturation: 0.006"
   ]
  },
  {
   "cell_type": "markdown",
   "metadata": {
    "colab_type": "text",
    "id": "7VKXYIXL5zCi"
   },
   "source": [
    "### Please answer the questions below to complete the experiment:"
   ]
  },
  {
   "cell_type": "code",
   "execution_count": 0,
   "metadata": {
    "colab": {},
    "colab_type": "code",
    "id": "UYhUFOC2qDdb"
   },
   "outputs": [],
   "source": [
    "#@title For very large datasets, which of the following gradient descent methods is recommended? { run: \"auto\", form-width: \"500px\", display-mode: \"form\" }\n",
    "Answer = \"\" #@param [\"Stochastic\",\"Mini-batch\",\"Batch\"]\n"
   ]
  },
  {
   "cell_type": "code",
   "execution_count": 0,
   "metadata": {
    "colab": {},
    "colab_type": "code",
    "id": "g9yfq4Cc5zqn"
   },
   "outputs": [],
   "source": [
    "#@title How was the experiment? { run: \"auto\", form-width: \"500px\", display-mode: \"form\" }\n",
    "Complexity = \"\" #@param [\"Too Simple, I am wasting time\", \"Good, But Not Challenging for me\", \"Good and Challenging me\", \"Was Tough, but I did it\", \"Too Difficult for me\"]\n"
   ]
  },
  {
   "cell_type": "code",
   "execution_count": 0,
   "metadata": {
    "colab": {},
    "colab_type": "code",
    "id": "E9zKHoZa52UE"
   },
   "outputs": [],
   "source": [
    "#@title If it was very easy, what more you would have liked to have been added? If it was very difficult, what would you have liked to have been removed? { run: \"auto\", display-mode: \"form\" }\n",
    "Additional = \"\" #@param {type:\"string\"}"
   ]
  },
  {
   "cell_type": "code",
   "execution_count": 0,
   "metadata": {
    "colab": {},
    "colab_type": "code",
    "id": "3Gb5zgRl54z-"
   },
   "outputs": [],
   "source": [
    "#@title Can you identify the concepts from the lecture which this experiment covered? { run: \"auto\", vertical-output: true, display-mode: \"form\" }\n",
    "Concepts = \"\" #@param [\"Yes\", \"No\"]"
   ]
  },
  {
   "cell_type": "code",
   "execution_count": 0,
   "metadata": {
    "cellView": "form",
    "colab": {},
    "colab_type": "code",
    "id": "Oiw7_YW958PG"
   },
   "outputs": [],
   "source": [
    "#@title Run this cell to submit your notebook for grading { vertical-output: true }\n",
    "try:\n",
    "  if submission_id:\n",
    "      return_id = submit_notebook()\n",
    "      if return_id : submission_id =return_id\n",
    "  else:\n",
    "      print(\"Please complete the setup first.\")\n",
    "except NameError:\n",
    "  print (\"Please complete the setup first.\")"
   ]
  }
 ],
 "metadata": {
  "colab": {
   "collapsed_sections": [],
   "name": "M1_003_Stochastic_Minibatch_GD_C.ipynb",
   "provenance": [],
   "version": "0.3.2"
  },
  "kernelspec": {
   "display_name": "Python 3",
   "language": "python",
   "name": "python3"
  },
  "language_info": {
   "codemirror_mode": {
    "name": "ipython",
    "version": 3
   },
   "file_extension": ".py",
   "mimetype": "text/x-python",
   "name": "python",
   "nbconvert_exporter": "python",
   "pygments_lexer": "ipython3",
   "version": "3.5.0"
  }
 },
 "nbformat": 4,
 "nbformat_minor": 1
}

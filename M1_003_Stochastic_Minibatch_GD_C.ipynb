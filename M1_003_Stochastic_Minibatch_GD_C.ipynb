{
  "nbformat": 4,
  "nbformat_minor": 0,
  "metadata": {
    "colab": {
      "name": "M1_003_Stochastic_Minibatch_GD_C.ipynb",
      "version": "0.3.2",
      "provenance": [],
      "collapsed_sections": [],
      "include_colab_link": true
    },
    "language_info": {
      "codemirror_mode": {
        "name": "ipython",
        "version": 3
      },
      "file_extension": ".py",
      "mimetype": "text/x-python",
      "name": "python",
      "nbconvert_exporter": "python",
      "pygments_lexer": "ipython3",
      "version": "3.5.0"
    },
    "kernelspec": {
      "display_name": "Python 3",
      "language": "python",
      "name": "python3"
    }
  },
  "cells": [
    {
      "cell_type": "markdown",
      "metadata": {
        "id": "view-in-github",
        "colab_type": "text"
      },
      "source": [
        "<a href=\"https://colab.research.google.com/github/peela85/AIML/blob/master/M1_003_Stochastic_Minibatch_GD_C.ipynb\" target=\"_parent\"><img src=\"https://colab.research.google.com/assets/colab-badge.svg\" alt=\"Open In Colab\"/></a>"
      ]
    },
    {
      "cell_type": "markdown",
      "metadata": {
        "colab_type": "text",
        "id": "UERx5ALuTJW_"
      },
      "source": [
        "# Advanced Certification in AIML\n",
        "## A Program by IIIT-H and TalentSprint"
      ]
    },
    {
      "cell_type": "markdown",
      "metadata": {
        "colab_type": "text",
        "id": "aE5xNmtpBcT4"
      },
      "source": [
        "## Learning Objective:"
      ]
    },
    {
      "cell_type": "markdown",
      "metadata": {
        "colab_type": "text",
        "id": "K_UItlExBcPR"
      },
      "source": [
        "   \n",
        "  At the end of the experiment, you will be able to :\n",
        "    \n",
        "  * Understand various types of gradient descent approaches (Stochastic, Mini-Batch Gradient Descent) and there differences.\n"
      ]
    },
    {
      "cell_type": "code",
      "metadata": {
        "cellView": "form",
        "colab_type": "code",
        "id": "lo6h67YIkEKp",
        "colab": {}
      },
      "source": [
        "#@title Experiment Walkthrough\n",
        "#@markdown Gradient descent and learning rate variations\n",
        "from IPython.display import HTML\n",
        "HTML(\"\"\"<video width='520' height='240' controls>\n",
        "<source src=\"https://cdn.talentsprint.com/aiml/AIML_BATCH_HYD_7/Week_1/stochastic_minibatch_gradient_descent.mp4\" type='video/mp4'>\n",
        "</video>\"\"\")"
      ],
      "execution_count": 0,
      "outputs": []
    },
    {
      "cell_type": "markdown",
      "metadata": {
        "colab_type": "text",
        "id": "2U7msw6GTJXB"
      },
      "source": [
        "## Dataset"
      ]
    },
    {
      "cell_type": "markdown",
      "metadata": {
        "colab_type": "text",
        "id": "PBplK_Hbw_EN"
      },
      "source": [
        "### Description"
      ]
    },
    {
      "cell_type": "markdown",
      "metadata": {
        "colab_type": "text",
        "id": "mDRTMSzJTJXD"
      },
      "source": [
        "\n",
        "The dataset consists of two columns and 89 rows. Each column represents a characteristic of a simple pendulum i.e l (length) and t (time period). The dataset describes the relationship between the l and t which is  L∝T2 .\n"
      ]
    },
    {
      "cell_type": "markdown",
      "metadata": {
        "colab_type": "text",
        "id": "Z8WpDaz2CukI"
      },
      "source": [
        "##AI/ML Technique"
      ]
    },
    {
      "cell_type": "markdown",
      "metadata": {
        "colab_type": "text",
        "id": "1jAMa55_xLmA"
      },
      "source": [
        "#### Gradient Descent\n",
        "\n",
        "Gradient Descent is used while training a machine learning model. It is an optimization algorithm, based on a convex function, that tweaks it’s parameters iteratively to minimize a given function to its local minimum.\n",
        "\n",
        "To know more about Gradient Descent and its variants you can refer the below link:\n",
        "\n",
        "https://towardsdatascience.com/gradient-descent-in-a-nutshell-eaf8c18212f0"
      ]
    },
    {
      "cell_type": "markdown",
      "metadata": {
        "colab_type": "text",
        "id": "zrwxriGkxNKp"
      },
      "source": [
        "## Keywords"
      ]
    },
    {
      "cell_type": "markdown",
      "metadata": {
        "colab_type": "text",
        "id": "mhOdzhI9TJXF"
      },
      "source": [
        "\n",
        "\n",
        "* Stochastic Gradient Descent\n",
        "* Scipy\n",
        "* Sklearn\n",
        "* mini batch Gradient Descent\n",
        "* Plotting Error vs Iteration"
      ]
    },
    {
      "cell_type": "markdown",
      "metadata": {
        "colab_type": "text",
        "id": "s0Mvlz1fTJXF"
      },
      "source": [
        "#### Expected Time : 90 mins"
      ]
    },
    {
      "cell_type": "markdown",
      "metadata": {
        "colab_type": "text",
        "id": "fCtf1KWE40lx"
      },
      "source": [
        "### Setup Steps"
      ]
    },
    {
      "cell_type": "code",
      "metadata": {
        "colab_type": "code",
        "id": "98uM_xF8426S",
        "colab": {}
      },
      "source": [
        "#@title Please enter your registration id to start: (e.g. P181900101) { run: \"auto\", display-mode: \"form\" }\n",
        "Id = \"P181902225\" #@param {type:\"string\"}\n"
      ],
      "execution_count": 0,
      "outputs": []
    },
    {
      "cell_type": "code",
      "metadata": {
        "colab_type": "code",
        "id": "Km69XLfr5BGc",
        "colab": {}
      },
      "source": [
        "#@title Please enter your password (normally your phone number) to continue: { run: \"auto\", display-mode: \"form\" }\n",
        "password = \"9059040698\" #@param {type:\"string\"}\n"
      ],
      "execution_count": 0,
      "outputs": []
    },
    {
      "cell_type": "code",
      "metadata": {
        "cellView": "form",
        "colab_type": "code",
        "id": "7Xp91vRMpNo1",
        "outputId": "6048b384-8c01-4b95-cb44-9fc73b4cbeb1",
        "colab": {
          "base_uri": "https://localhost:8080/",
          "height": 34
        }
      },
      "source": [
        "#@title Run this cell to complete the setup for this Notebook\n",
        "from IPython import get_ipython\n",
        "\n",
        "ipython = get_ipython()\n",
        "  \n",
        "notebook=\"M1W1_003_Stochastic_Minibatch_GD_C\" #name of the notebook\n",
        "\n",
        "def setup():\n",
        "#  ipython.magic(\"sx pip3 install torch\") \n",
        "    ipython.magic(\"sx wget https://cdn.talentsprint.com/aiml/Experiment_related_data/week1/Exp1/AIML_DS_REGR01_SIMPLEPENDULUMOSCILLATIONDATA.txt\")\n",
        "    from IPython.display import HTML, display\n",
        "    display(HTML('<script src=\"https://dashboard.talentsprint.com/aiml/record_ip.html?traineeId={0}&recordId={1}\"></script>'.format(getId(),submission_id)))\n",
        "    print(\"Setup completed successfully\")\n",
        "    return\n",
        "\n",
        "def submit_notebook():\n",
        "    \n",
        "    ipython.magic(\"notebook -e \"+ notebook + \".ipynb\")\n",
        "    \n",
        "    import requests, json, base64, datetime\n",
        "\n",
        "    url = \"https://dashboard.talentsprint.com/xp/app/save_notebook_attempts\"\n",
        "    if not submission_id:\n",
        "      data = {\"id\" : getId(), \"notebook\" : notebook, \"mobile\" : getPassword()}\n",
        "      r = requests.post(url, data = data)\n",
        "      r = json.loads(r.text)\n",
        "\n",
        "      if r[\"status\"] == \"Success\":\n",
        "          return r[\"record_id\"]\n",
        "      elif \"err\" in r:        \n",
        "        print(r[\"err\"])\n",
        "        return None        \n",
        "      else:\n",
        "        print (\"Something is wrong, the notebook will not be submitted for grading\")\n",
        "        return None\n",
        "\n",
        "    elif getAnswer() and getComplexity() and getAdditional() and getConcepts():\n",
        "      f = open(notebook + \".ipynb\", \"rb\")\n",
        "      file_hash = base64.b64encode(f.read())\n",
        "\n",
        "      data = {\"complexity\" : Complexity, \"additional\" :Additional, \n",
        "              \"concepts\" : Concepts, \"record_id\" : submission_id, \n",
        "              \"answer\" : Answer, \"id\" : Id, \"file_hash\" : file_hash,\n",
        "              \"notebook\" : notebook}\n",
        "\n",
        "      r = requests.post(url, data = data)\n",
        "      r = json.loads(r.text)\n",
        "      print(\"Your submission is successful.\")\n",
        "      print(\"Ref Id:\", submission_id)\n",
        "      print(\"Date of submission: \", r[\"date\"])\n",
        "      print(\"Time of submission: \", r[\"time\"])\n",
        "      print(\"View your submissions: https://iiith-aiml.talentsprint.com/notebook_submissions\")\n",
        "      print(\"For any queries/discrepancies, please connect with mentors through the chat icon in LMS dashboard.\")\n",
        "      return submission_id\n",
        "    else: submission_id\n",
        "    \n",
        "\n",
        "def getAdditional():\n",
        "  try:\n",
        "    if Additional: return Additional      \n",
        "    else: raise NameError('')\n",
        "  except NameError:\n",
        "    print (\"Please answer Additional Question\")\n",
        "    return None\n",
        "\n",
        "def getComplexity():\n",
        "  try:\n",
        "    return Complexity\n",
        "  except NameError:\n",
        "    print (\"Please answer Complexity Question\")\n",
        "    return None\n",
        "  \n",
        "def getConcepts():\n",
        "  try:\n",
        "    return Concepts\n",
        "  except NameError:\n",
        "    print (\"Please answer Concepts Question\")\n",
        "    return None\n",
        "\n",
        "def getAnswer():\n",
        "  try:\n",
        "    return Answer\n",
        "  except NameError:\n",
        "    print (\"Please answer Question\")\n",
        "    return None\n",
        "\n",
        "def getId():\n",
        "  try: \n",
        "    return Id if Id else None\n",
        "  except NameError:\n",
        "    return None\n",
        "\n",
        "def getPassword():\n",
        "  try:\n",
        "    return password if password else None\n",
        "  except NameError:\n",
        "    return None\n",
        "\n",
        "submission_id = None\n",
        "### Setup \n",
        "if getPassword() and getId():\n",
        "  submission_id = submit_notebook()\n",
        "  if submission_id:\n",
        "    setup()\n",
        "    from IPython.display import HTML\n",
        "    HTML('<script src=\"https://dashboard.talentsprint.com/aiml/record_ip.html?traineeId={0}&recordId={1}\"></script>'.format(getId(),submission_id))\n",
        "  \n",
        "else:\n",
        "  print (\"Please complete Id and Password cells before running setup\")\n",
        "\n"
      ],
      "execution_count": 3,
      "outputs": [
        {
          "output_type": "display_data",
          "data": {
            "text/html": [
              "<script src=\"https://dashboard.talentsprint.com/aiml/record_ip.html?traineeId=P181902225&recordId=9257\"></script>"
            ],
            "text/plain": [
              "<IPython.core.display.HTML object>"
            ]
          },
          "metadata": {
            "tags": []
          }
        },
        {
          "output_type": "stream",
          "text": [
            "Setup completed successfully\n"
          ],
          "name": "stdout"
        }
      ]
    },
    {
      "cell_type": "code",
      "metadata": {
        "colab_type": "code",
        "id": "sRjAjk1hTJXM",
        "colab": {}
      },
      "source": [
        "# Import the required Packages\n",
        "import pandas as pd\n",
        "import numpy as np\n",
        "import scipy.stats as stat\n",
        "%matplotlib notebook\n",
        "from  matplotlib import pyplot as plt\n",
        "import random\n",
        "import time\n"
      ],
      "execution_count": 0,
      "outputs": []
    },
    {
      "cell_type": "markdown",
      "metadata": {
        "colab_type": "text",
        "id": "GLdAeF_tTJXR"
      },
      "source": [
        "### Read the data"
      ]
    },
    {
      "cell_type": "code",
      "metadata": {
        "colab_type": "code",
        "id": "YDNrlfakTJXS",
        "outputId": "1733c545-a0b0-4030-e8dd-cb166534337c",
        "colab": {
          "base_uri": "https://localhost:8080/",
          "height": 221
        }
      },
      "source": [
        "# Load the data by using pandas read_csv()\n",
        "data = pd.read_csv(\"AIML_DS_REGR01_SIMPLEPENDULUMOSCILLATIONDATA.txt\", sep=\" \", header=None, names=['l', 't'])\n",
        "# Print the first 5 rows of dataframe 'data'\n",
        "print(data.head())\n",
        "# Print the last 5 rows of dataframe 'data'\n",
        "print(data.tail())"
      ],
      "execution_count": 5,
      "outputs": [
        {
          "output_type": "stream",
          "text": [
            "      l        t\n",
            "0  0.10  0.69004\n",
            "1  0.11  0.69497\n",
            "2  0.12  0.74252\n",
            "3  0.13  0.75360\n",
            "4  0.14  0.83568\n",
            "       l       t\n",
            "85  0.95  1.9841\n",
            "86  0.96  2.0066\n",
            "87  0.97  2.0493\n",
            "88  0.98  2.0503\n",
            "89  0.99  2.0214\n"
          ],
          "name": "stdout"
        }
      ]
    },
    {
      "cell_type": "code",
      "metadata": {
        "colab_type": "code",
        "id": "QTtgOro7TJXT",
        "colab": {}
      },
      "source": [
        "# Get the length and time period values from the dataset\n",
        "l = data['l'].values\n",
        "t = data['t'].values\n",
        "# Get the square of time period\n",
        "tsq = t * t"
      ],
      "execution_count": 0,
      "outputs": []
    },
    {
      "cell_type": "markdown",
      "metadata": {
        "colab_type": "text",
        "id": "srgyaBxoTJXW"
      },
      "source": [
        "**Stochastic gradient descent (Single sample)**\n",
        "\n",
        "Instead of computing the sum of all gradients, stochastic gradient descent selects an observation uniformly at random."
      ]
    },
    {
      "cell_type": "markdown",
      "metadata": {
        "colab_type": "text",
        "id": "hpHa2ZwyTJXX"
      },
      "source": [
        " $y_i = mx_i + c$\n",
        "\n",
        "$E$ = $(y - y_i)^2$\n",
        "\n",
        "$\\frac{\\partial E }{\\partial m}$ = $ -(y - (mx_i + c)) * x_i$\n",
        "\n",
        "$\\frac{\\partial E }{\\partial c}$ = $ -(y - (mx_i + c))$"
      ]
    },
    {
      "cell_type": "code",
      "metadata": {
        "colab_type": "code",
        "id": "hUq_mCNLTJXY",
        "colab": {}
      },
      "source": [
        "\"\"\"\n",
        "The function 'next_step' updates the values of m and c and calculates error. \n",
        "The loss is minimized due to the changed values of m and c.\n",
        "The new values m, c and the minimized loss is returned.\n",
        "\"\"\"\n",
        "def next_step(x, y, m, c, eta):\n",
        "    ycalc = m * x + c\n",
        "    error = (y - ycalc) ** 2\n",
        "    delta_m = -(y - ycalc) * x\n",
        "    delta_c = -(y - ycalc)\n",
        "    m = m - delta_m * eta\n",
        "    c = c - delta_c * eta\n",
        "    return m, c, error\n",
        "\n",
        "\"\"\"\n",
        "The function below takes a random index and at that index idx, we calculate the values of m,c and error.\n",
        "We use one data point at a time x[idx],y[idx]\n",
        "Here we call the funtion 'next_step' to which we pass a data point x[idx],y[idx]\n",
        "\"\"\"\n",
        "def one_loop_random(x, y, m, c, eta):\n",
        "    # Making random idx\n",
        "    random_idx = np.arange(len(y))\n",
        "    np.random.shuffle(random_idx)\n",
        "    # Training with random idx\n",
        "    for idx in random_idx:\n",
        "        m, c, e = next_step(x[idx], y[idx], m, c, eta)\n",
        "        #print(m, c, e)\n",
        "    return m,c,e\n",
        "  \n",
        "\"\"\"\n",
        "The function below trains the data for 1000 iterations. \n",
        "In each iteration it calls the 'one_loop_random' function.\n",
        "\"\"\"\n",
        "def train_stochastic(x, y, m, c, eta, iterations=1000):\n",
        "    for iteration in range(iterations):\n",
        "        m, c, err = one_loop_random(x, y, m, c, eta)\n",
        "    return m, c, err"
      ],
      "execution_count": 0,
      "outputs": []
    },
    {
      "cell_type": "markdown",
      "metadata": {
        "colab_type": "text",
        "id": "HM2O8HtFTJXa"
      },
      "source": [
        "## TRAIN"
      ]
    },
    {
      "cell_type": "code",
      "metadata": {
        "colab_type": "code",
        "id": "JlR-YQJoTJXd",
        "colab": {}
      },
      "source": [
        "# Init m, c\n",
        "m, c = 0, 0"
      ],
      "execution_count": 0,
      "outputs": []
    },
    {
      "cell_type": "code",
      "metadata": {
        "colab_type": "code",
        "id": "kijRetDpTJXg",
        "colab": {}
      },
      "source": [
        "# Learning rate\n",
        "lr = 0.001"
      ],
      "execution_count": 0,
      "outputs": []
    },
    {
      "cell_type": "code",
      "metadata": {
        "colab_type": "code",
        "id": "8FDMh5YtTJXk",
        "outputId": "bc5abea9-5410-4236-e261-431e3040b1b8",
        "colab": {
          "base_uri": "https://localhost:8080/",
          "height": 493
        }
      },
      "source": [
        "# Training for 1000 iterations, plotting after every 100 iterations:\n",
        "%matplotlib inline\n",
        "fig = plt.figure(figsize=(5, 5))\n",
        "ax = fig.add_subplot(111)\n",
        "plt.ion()\n",
        "fig.show()\n",
        "fig.canvas.draw()\n",
        "\n",
        "# Call the train_stochastic() method to update m and c and get error value with lr = 0.001.\n",
        "for num in range(10):\n",
        "    m, c, error = train_stochastic(l, tsq, m, c, lr, iterations=100) # We will plot the error values for every 100 iterations\n",
        "    print(\"m = {0:.6} c = {1:.6} Error = {2:.6}\".format(m, c, error))\n",
        "    y = m * l + c\n",
        "    ax.clear()\n",
        "    ax.plot(l, tsq, '.k')\n",
        "    ax.plot(l, y)\n",
        "    fig.canvas.draw()\n",
        "    time.sleep(1)"
      ],
      "execution_count": 10,
      "outputs": [
        {
          "output_type": "stream",
          "text": [
            "m = 2.20165 c = 1.18821 Error = 0.372843\n",
            "m = 2.92046 c = 0.775233 Error = 0.0311833\n",
            "m = 3.3728 c = 0.515101 Error = 0.140657\n",
            "m = 3.65773 c = 0.351712 Error = 6.00942e-05\n",
            "m = 3.83684 c = 0.248418 Error = 0.0322118\n",
            "m = 3.94979 c = 0.183762 Error = 0.0198563\n",
            "m = 4.02086 c = 0.142992 Error = 0.000231196\n",
            "m = 4.06548 c = 0.11716 Error = 0.00170107\n",
            "m = 4.09373 c = 0.101171 Error = 0.00758359\n",
            "m = 4.11134 c = 0.0908306 Error = 2.0583e-05\n"
          ],
          "name": "stdout"
        },
        {
          "output_type": "display_data",
          "data": {
            "image/png": "[encoded data removed]",
            "text/plain": [
              "<Figure size 360x360 with 1 Axes>"
            ]
          },
          "metadata": {
            "tags": []
          }
        }
      ]
    },
    {
      "cell_type": "markdown",
      "metadata": {
        "colab_type": "text",
        "id": "HCVJrwLQTJXo"
      },
      "source": [
        "**Ungraded Exercise 1: Experiment with other lr values.**\n",
        "\n"
      ]
    },
    {
      "cell_type": "code",
      "metadata": {
        "colab_type": "code",
        "id": "7vU_e7ilTJXo",
        "outputId": "3638a344-b693-450a-bbfd-c9e5287051c6",
        "colab": {
          "base_uri": "https://localhost:8080/",
          "height": 493
        }
      },
      "source": [
        "##Your Code Here\n",
        "m, c = 0, 0\n",
        "lr = 0.004\n",
        "\n",
        "%matplotlib inline\n",
        "fig = plt.figure(figsize=(5, 5))\n",
        "ax = fig.add_subplot(111)\n",
        "plt.ion()\n",
        "fig.show()\n",
        "fig.canvas.draw()\n",
        "\n",
        "# Call the train_stochastic() method to update m and c and get error value with lr = 0.004.\n",
        "for num in range(10):\n",
        "    m, c, error = train_stochastic(l, tsq, m, c, lr, iterations=100) # We will plot the error values for every 100 iterations\n",
        "    print(\"m = {0:.6} c = {1:.6} Error = {2:.6}\".format(m, c, error))\n",
        "    y = m * l + c\n",
        "    ax.clear()\n",
        "    ax.plot(l, tsq, '.k')\n",
        "    ax.plot(l, y)\n",
        "    fig.canvas.draw()\n",
        "    time.sleep(1)\n",
        "    \n",
        "    "
      ],
      "execution_count": 11,
      "outputs": [
        {
          "output_type": "stream",
          "text": [
            "m = 3.65924 c = 0.351309 Error = 0.020284\n",
            "m = 4.06584 c = 0.116715 Error = 0.000715669\n",
            "m = 4.12971 c = 0.0804086 Error = 0.0152891\n",
            "m = 4.13909 c = 0.0738204 Error = 0.0125462\n",
            "m = 4.14148 c = 0.074284 Error = 0.0246393\n",
            "m = 4.14192 c = 0.0745706 Error = 0.012308\n",
            "m = 4.14159 c = 0.073728 Error = 1.14707e-05\n",
            "m = 4.1413 c = 0.0731757 Error = 0.00172675\n",
            "m = 4.14139 c = 0.0735255 Error = 0.0040961\n",
            "m = 4.14133 c = 0.0734169 Error = 0.00577269\n"
          ],
          "name": "stdout"
        },
        {
          "output_type": "display_data",
          "data": {
            "image/png": "[encoded data removed]",
            "text/plain": [
              "<Figure size 360x360 with 1 Axes>"
            ]
          },
          "metadata": {
            "tags": []
          }
        }
      ]
    },
    {
      "cell_type": "code",
      "metadata": {
        "id": "KxJ0vvRI_zn0",
        "colab_type": "code",
        "outputId": "84098e85-fdd0-4087-a974-c3cae1f3157b",
        "colab": {
          "base_uri": "https://localhost:8080/",
          "height": 493
        }
      },
      "source": [
        "##Your Code Here\n",
        "m, c = 0, 0\n",
        "lr = 0.002\n",
        "\n",
        "%matplotlib inline\n",
        "fig = plt.figure(figsize=(5, 5))\n",
        "ax = fig.add_subplot(111)\n",
        "plt.ion()\n",
        "fig.show()\n",
        "fig.canvas.draw()\n",
        "\n",
        "# Call the train_stochastic() method to update m and c and get error value with lr = 0.002.\n",
        "for num in range(10):\n",
        "    m, c, error = train_stochastic(l, tsq, m, c, lr, iterations=100) # We will plot the error values for every 100 iterations\n",
        "    print(\"m = {0:.6} c = {1:.6} Error = {2:.6}\".format(m, c, error))\n",
        "    y = m * l + c\n",
        "    ax.clear()\n",
        "    ax.plot(l, tsq, '.k')\n",
        "    ax.plot(l, y)\n",
        "    fig.canvas.draw()\n",
        "    time.sleep(1)"
      ],
      "execution_count": 12,
      "outputs": [
        {
          "output_type": "stream",
          "text": [
            "m = 2.92146 c = 0.774929 Error = 0.111115\n",
            "m = 3.65836 c = 0.351335 Error = 0.0137594\n",
            "m = 3.95011 c = 0.183507 Error = 0.00484568\n",
            "m = 4.06573 c = 0.117189 Error = 0.00661903\n",
            "m = 4.11137 c = 0.0907073 Error = 0.0126201\n",
            "m = 4.12954 c = 0.0803072 Error = 0.00934826\n",
            "m = 4.13677 c = 0.0762992 Error = 0.00147494\n",
            "m = 4.13958 c = 0.0746408 Error = 0.0101696\n",
            "m = 4.14078 c = 0.0740995 Error = 0.0083855\n",
            "m = 4.14121 c = 0.0737919 Error = 5.80801e-05\n"
          ],
          "name": "stdout"
        },
        {
          "output_type": "display_data",
          "data": {
            "image/png": "[encoded data removed]",
            "text/plain": [
              "<Figure size 360x360 with 1 Axes>"
            ]
          },
          "metadata": {
            "tags": []
          }
        }
      ]
    },
    {
      "cell_type": "code",
      "metadata": {
        "id": "PIXbAGez_0A-",
        "colab_type": "code",
        "outputId": "08308d43-b58c-4c0f-faf3-78f564052e6a",
        "colab": {
          "base_uri": "https://localhost:8080/",
          "height": 493
        }
      },
      "source": [
        "##Your Code Here\n",
        "m, c = 0, 0\n",
        "lr = 0.003\n",
        "\n",
        "%matplotlib inline\n",
        "fig = plt.figure(figsize=(5, 5))\n",
        "ax = fig.add_subplot(111)\n",
        "plt.ion()\n",
        "fig.show()\n",
        "fig.canvas.draw()\n",
        "\n",
        "# Call the train_stochastic() method to update m and c and get error value with lr = 0.003.\n",
        "for num in range(10):\n",
        "    m, c, error = train_stochastic(l, tsq, m, c, lr, iterations=100) # We will plot the error values for every 100 iterations\n",
        "    print(\"m = {0:.6} c = {1:.6} Error = {2:.6}\".format(m, c, error))\n",
        "    y = m * l + c\n",
        "    ax.clear()\n",
        "    ax.plot(l, tsq, '.k')\n",
        "    ax.plot(l, y)\n",
        "    fig.canvas.draw()\n",
        "    time.sleep(1)"
      ],
      "execution_count": 13,
      "outputs": [
        {
          "output_type": "stream",
          "text": [
            "m = 3.37531 c = 0.515021 Error = 0.00787888\n",
            "m = 3.95061 c = 0.183418 Error = 0.0682423\n",
            "m = 4.09367 c = 0.100441 Error = 0.00706401\n",
            "m = 4.12912 c = 0.0795864 Error = 0.0119345\n",
            "m = 4.13859 c = 0.0754892 Error = 0.00738439\n",
            "m = 4.14047 c = 0.0735763 Error = 1.75335e-05\n",
            "m = 4.14142 c = 0.0738376 Error = 0.00924\n",
            "m = 4.14147 c = 0.0735062 Error = 0.00951609\n",
            "m = 4.1413 c = 0.0733769 Error = 0.0019102\n",
            "m = 4.14148 c = 0.0736494 Error = 0.00629633\n"
          ],
          "name": "stdout"
        },
        {
          "output_type": "display_data",
          "data": {
            "image/png": "[encoded data removed]",
            "text/plain": [
              "<Figure size 360x360 with 1 Axes>"
            ]
          },
          "metadata": {
            "tags": []
          }
        }
      ]
    },
    {
      "cell_type": "markdown",
      "metadata": {
        "colab_type": "text",
        "id": "7GRP1Ge9TJXr"
      },
      "source": [
        "**Ungraded Exercise 2: plot Errors vs Iterations**"
      ]
    },
    {
      "cell_type": "code",
      "metadata": {
        "colab_type": "code",
        "id": "SXceKp3zTJXs",
        "colab": {}
      },
      "source": [
        "# Your Code Here\n",
        "ms, cs,errs = [], [], []\n",
        "m, c = 0, 0\n",
        "lr = 0.001\n",
        "\n",
        "# Call the train_stochastic() method to update m and c and get error value with lr = 0.001.\n",
        "for times in range(100):\n",
        "    m, c, error = train_stochastic(l, tsq, m, c, lr, iterations=100) # We will plot the error values for every 100 iterations\n",
        "    ms.append(m)\n",
        "    cs.append(c)\n",
        "    errs.append(error)\n"
      ],
      "execution_count": 0,
      "outputs": []
    },
    {
      "cell_type": "code",
      "metadata": {
        "colab_type": "code",
        "id": "BDP56TXzywXx",
        "outputId": "3bb872fe-df6e-4686-9b2e-39ef8a85d60a",
        "colab": {
          "base_uri": "https://localhost:8080/",
          "height": 283
        }
      },
      "source": [
        "### Your Code Here\n",
        "plt.plot(range(len(errs)), errs)\n",
        "plt.xlabel(\"Iterations\")\n",
        "plt.ylabel(\"Error\")\n",
        "plt.show()"
      ],
      "execution_count": 15,
      "outputs": [
        {
          "output_type": "display_data",
          "data": {
            "image/png": "[encoded data removed]",
            "text/plain": [
              "<Figure size 432x288 with 1 Axes>"
            ]
          },
          "metadata": {
            "tags": []
          }
        }
      ]
    },
    {
      "cell_type": "markdown",
      "metadata": {
        "colab_type": "text",
        "id": "y9rIMmaMTJXv"
      },
      "source": [
        "**Ungraded Exercise 3 : Is this better than sequential gradient descent and vanilla gradient descent?**\n",
        "\n",
        "Hint - check the error value at saturation, and time it takes to reach saturation."
      ]
    },
    {
      "cell_type": "code",
      "metadata": {
        "id": "ebMcBmZLO8RG",
        "colab_type": "code",
        "colab": {}
      },
      "source": [
        "# Your Code Here\n",
        "\n",
        "def train(x, y, m, c, eta):\n",
        "    const = - 2.0/len(y)\n",
        "    ycalc = m * x + c\n",
        "    #Calculate \"delta_m\" and \"delta_c\"\n",
        "    #<YOUR CODE HERE>\n",
        "    delta_m = -(y - ycalc) * x\n",
        "    delta_c = -(y - ycalc)\n",
        "    m = m - delta_m * eta\n",
        "    c = c - delta_c * eta\n",
        "    error = sum((y - ycalc)**2)/len(y)\n",
        "    return m, c, error\n",
        "  \n",
        "errs_1 = []\n",
        "m, c = 0, 0\n",
        "eta =0.004\n",
        "for iteration in range (100):\n",
        "  m_1, c_1, error = train(1, tsq, m, c, eta)\n",
        "  errs_1.append(error)\n",
        "\n",
        "\n",
        "\n",
        "ms, cs,errs = [], [], []\n",
        "m, c = 0, 0\n",
        "lr = 0.004\n",
        "\n",
        "# Call the train_stochastic() method to update m and c and get error value with lr = 0.004.\n",
        "for times in range(100):\n",
        "    m, c, error = train_stochastic(l, tsq, m, c, lr, iterations=100) # We will plot the error values for every 100 iterations\n",
        "    ms.append(m)\n",
        "    cs.append(c)\n",
        "    errs.append(error)"
      ],
      "execution_count": 0,
      "outputs": []
    },
    {
      "cell_type": "code",
      "metadata": {
        "id": "748dg2kwO5lw",
        "colab_type": "code",
        "outputId": "dce9bc2c-6a86-4d1f-9cf7-0b64a5386db5",
        "colab": {
          "base_uri": "https://localhost:8080/",
          "height": 283
        }
      },
      "source": [
        "\n",
        "plt.plot(range(len(errs)), errs)\n",
        "plt.plot(range(len(errs_1)), errs_1)\n",
        "plt.xlabel(\"Iterations\")\n",
        "plt.ylabel(\"Error\")\n",
        "plt.show()"
      ],
      "execution_count": 17,
      "outputs": [
        {
          "output_type": "display_data",
          "data": {
            "image/png": "[encoded data removed]",
            "text/plain": [
              "<Figure size 432x288 with 1 Axes>"
            ]
          },
          "metadata": {
            "tags": []
          }
        }
      ]
    },
    {
      "cell_type": "code",
      "metadata": {
        "colab_type": "code",
        "id": "_jhCKU75TJXv",
        "colab": {}
      },
      "source": [
        "\n"
      ],
      "execution_count": 0,
      "outputs": []
    },
    {
      "cell_type": "markdown",
      "metadata": {
        "colab_type": "text",
        "id": "UwIZ7tuZTJXx"
      },
      "source": [
        "## PROBLEM\n",
        "\n",
        "Problem with Sequential/Stochastic Gradient Descent is it does not scale well - it makes the same calculation of gradient descent on each sample. So the time taken will increase linearly with the number of samples. Many datasets have samples in the range of millions. Hence, even though it gives good results, it is not ideal.\n",
        "\n",
        "We need a gradient descent formulation that gives the speed of vanilla gradient descent and the accuracy of sequential/stochastic gradient descent.\n",
        "\n",
        "Next we will see **Minibatch Gradient Descent!**"
      ]
    },
    {
      "cell_type": "markdown",
      "metadata": {
        "colab_type": "text",
        "id": "m3S-IvdHTJXx"
      },
      "source": [
        "### Minibatch Gradient Descent"
      ]
    },
    {
      "cell_type": "markdown",
      "metadata": {
        "colab_type": "text",
        "id": "ZT6lGuO8TJXy"
      },
      "source": [
        "In Mini-Batch Gradient Descent algorithm, rather than using  the complete data set, in every iteration we use a subset of training examples (called \"batch\") to compute the gradient of the cost function. \n",
        "\n",
        "Common mini-batch sizes range between 50 and 256, but can vary for different applications."
      ]
    },
    {
      "cell_type": "markdown",
      "metadata": {
        "colab_type": "text",
        "id": "8IWur68qTJXz"
      },
      "source": [
        "one_batch() : we will be calculating the essenial parts of the Gradient Descent method:  \n",
        "\n",
        "$y_i = mx_i + c$\n",
        "        \n",
        "$E$ =$\\frac{1}{n}$   $\\sum_{i=1}^n (y - y_i)^2$\n",
        "\n",
        "$\\frac{\\partial E }{\\partial m}$ = $\\frac{2}{n}$   $\\sum_{i=1}^n  -x_i(y - (mx_i + c))$\n",
        " \n",
        "$\\frac{\\partial E}{\\partial c}$ = $\\frac{2}{n}$   $\\sum_{i=1}^n  -(y - (mx_i + c))$"
      ]
    },
    {
      "cell_type": "markdown",
      "metadata": {
        "colab_type": "text",
        "id": "mJgPCef6TJXz"
      },
      "source": [
        "one_step() : We will be splitting our data into batches."
      ]
    },
    {
      "cell_type": "code",
      "metadata": {
        "colab_type": "code",
        "id": "JkRMHxA2TJX0",
        "colab": {}
      },
      "source": [
        "\"\"\"\n",
        "The function 'train_one_batch' updates the values of m and c and calculates error. \n",
        "The loss is minimized due to the changed values of m and c.\n",
        "The new values m, c and the minimized loss is returned.\n",
        "\"\"\"\n",
        "def train_one_batch(x, y, m, c, eta):\n",
        "    const = - 2.0/len(y)\n",
        "    ycalc = m * x + c\n",
        "    delta_m = const * sum(x * (y - ycalc))\n",
        "    delta_c = const * sum(y - ycalc)\n",
        "    m = m - delta_m * eta\n",
        "    c = c - delta_c * eta\n",
        "    error = sum((y - ycalc)**2)/len(y)\n",
        "    return m, c, error\n",
        "\n",
        "\"\"\"\n",
        "The function below takes a batch_size and loss is calculated w.r.t batches.\n",
        "The batches are created using random index.\n",
        "The m, c and error values are calculated for each batch of data.\n",
        "So, it calls the function 'train_one_batch' by passing batch_x, batch_y for each batch.\n",
        "\"\"\"\n",
        "def train_batches(x, y, m, c, eta, batch_size):\n",
        "    # Making the batches\n",
        "    random_idx = np.arange(len(y))\n",
        "    np.random.shuffle(random_idx)\n",
        "    \n",
        "    # Train each batch\n",
        "    for batch in range(len(y)//batch_size):\n",
        "        batch_idx = random_idx[batch*batch_size:(batch+1)*batch_size]\n",
        "        batch_x = x[batch_idx]\n",
        "        batch_y = y[batch_idx]\n",
        "        m, c, err = train_one_batch(batch_x, batch_y, m, c, eta)\n",
        "    \n",
        "    return m, c, err\n",
        "\n",
        "\"\"\"\n",
        "The function below trains the data for 1000 iterations. \n",
        "The data is traversed in batches, the batch size here is considered to be 10.\n",
        "In each iteration it calls the 'train_batches' function. \n",
        "The 'batch_size' is passed as a parameter to 'train_batches'.\n",
        "\"\"\"\n",
        "def train_minibatch(x, y, m, c, eta, batch_size=10, iterations=1000):\n",
        "    for iteration in range(iterations):\n",
        "        m, c, err = train_batches(x, y, m, c, eta, batch_size)\n",
        "    return m, c, err\n"
      ],
      "execution_count": 0,
      "outputs": []
    },
    {
      "cell_type": "markdown",
      "metadata": {
        "colab_type": "text",
        "id": "-BLipYesTJX4"
      },
      "source": [
        "#### TRAIN"
      ]
    },
    {
      "cell_type": "code",
      "metadata": {
        "colab_type": "code",
        "id": "oAsrGHdLTJX4",
        "colab": {}
      },
      "source": [
        "# Init m, c\n",
        "m, c = 0, 0"
      ],
      "execution_count": 0,
      "outputs": []
    },
    {
      "cell_type": "code",
      "metadata": {
        "colab_type": "code",
        "id": "BXm2ZSEwTJX8",
        "colab": {}
      },
      "source": [
        "# Learning rate\n",
        "lr = 0.001"
      ],
      "execution_count": 0,
      "outputs": []
    },
    {
      "cell_type": "code",
      "metadata": {
        "colab_type": "code",
        "id": "c0ejZ17GTJX_",
        "colab": {}
      },
      "source": [
        "# Batch size\n",
        "batch_size = 10"
      ],
      "execution_count": 0,
      "outputs": []
    },
    {
      "cell_type": "code",
      "metadata": {
        "colab_type": "code",
        "id": "3Y-XhUFqTJYB",
        "outputId": "74eb2d2f-88fe-41c9-a3e1-c90b6bce16d1",
        "colab": {
          "base_uri": "https://localhost:8080/",
          "height": 493
        }
      },
      "source": [
        "%matplotlib inline\n",
        "# Training for 1000 iterations, plotting after every 100 iterations:\n",
        "fig = plt.figure(figsize=(5, 5))\n",
        "ax = fig.add_subplot(111)\n",
        "plt.ion()\n",
        "fig.show()\n",
        "fig.canvas.draw()\n",
        "\n",
        "# Call the train_minibatch() method to update m and c and get error value with lr = 0.001 and batch_size=90.\n",
        "for num in range(10):\n",
        "    m, c, error = train_minibatch(l, tsq, m, c, lr, batch_size=90, iterations=100) # We will plot the error values for every 100 iterations\n",
        "    print(\"m = {0:.6} c = {1:.6} Error = {2:.6}\".format(m, c, error))\n",
        "    y = m * l + c\n",
        "    ax.clear()\n",
        "    ax.plot(l, tsq, '.k')\n",
        "    ax.plot(l, y)\n",
        "    fig.canvas.draw()\n",
        "    time.sleep(1)"
      ],
      "execution_count": 22,
      "outputs": [
        {
          "output_type": "stream",
          "text": [
            "m = 0.276529 c = 0.408341 Error = 4.1726\n",
            "m = 0.49608 c = 0.718257 Error = 2.71618\n",
            "m = 0.671759 c = 0.952549 Error = 1.8504\n",
            "m = 0.813639 c = 1.12874 Error = 1.33379\n",
            "m = 0.929467 c = 1.26031 Error = 1.02365\n",
            "m = 1.0252 c = 1.35762 Error = 0.835624\n",
            "m = 1.10541 c = 1.42863 Error = 0.719865\n",
            "m = 1.17362 c = 1.47945 Error = 0.646911\n",
            "m = 1.23254 c = 1.51479 Error = 0.599347\n",
            "m = 1.28426 c = 1.53828 Error = 0.566879\n"
          ],
          "name": "stdout"
        },
        {
          "output_type": "display_data",
          "data": {
            "image/png": "[encoded data removed]",
            "text/plain": [
              "<Figure size 360x360 with 1 Axes>"
            ]
          },
          "metadata": {
            "tags": []
          }
        }
      ]
    },
    {
      "cell_type": "markdown",
      "metadata": {
        "colab_type": "text",
        "id": "bPrP3o7JTJYF"
      },
      "source": [
        "**Ungraded Exercise 4: Experiment with other lr values.**"
      ]
    },
    {
      "cell_type": "code",
      "metadata": {
        "id": "cmfqVkLdE7O6",
        "colab_type": "code",
        "outputId": "fc859dcc-6250-45df-edd4-90e0e71425f1",
        "colab": {
          "base_uri": "https://localhost:8080/",
          "height": 493
        }
      },
      "source": [
        "m, c = 0, 0\n",
        "lr = 0.003\n",
        "batch_size = 10\n",
        "%matplotlib inline\n",
        "# Training for 1000 iterations, plotting after every 100 iterations:\n",
        "fig = plt.figure(figsize=(5, 5))\n",
        "ax = fig.add_subplot(111)\n",
        "plt.ion()\n",
        "fig.show()\n",
        "fig.canvas.draw()\n",
        "\n",
        "# Call the train_minibatch() method to update m and c and get error value with lr = 0.001 and batch_size=90.\n",
        "for num in range(10):\n",
        "    m, c, error = train_minibatch(l, tsq, m, c, lr, batch_size=90, iterations=100) # We will plot the error values for every 100 iterations\n",
        "    print(\"m = {0:.6} c = {1:.6} Error = {2:.6}\".format(m, c, error))\n",
        "    y = m * l + c\n",
        "    ax.clear()\n",
        "    ax.plot(l, tsq, '.k')\n",
        "    ax.plot(l, y)\n",
        "    fig.canvas.draw()\n",
        "    time.sleep(1)"
      ],
      "execution_count": 23,
      "outputs": [
        {
          "output_type": "stream",
          "text": [
            "m = 0.672771 c = 0.954287 Error = 1.85855\n",
            "m = 1.02612 c = 1.35919 Error = 0.836419\n",
            "m = 1.23319 c = 1.51586 Error = 0.599457\n",
            "m = 1.3725 c = 1.56079 Error = 0.525506\n",
            "m = 1.47972 c = 1.55585 Error = 0.486574\n",
            "m = 1.57104 c = 1.52907 Error = 0.456261\n",
            "m = 1.65387 c = 1.49313 Error = 0.429055\n",
            "m = 1.73158 c = 1.45376 Error = 0.403741\n",
            "m = 1.80575 c = 1.41354 Error = 0.379997\n",
            "m = 1.87713 c = 1.37362 Error = 0.357684\n"
          ],
          "name": "stdout"
        },
        {
          "output_type": "display_data",
          "data": {
            "image/png": "[encoded data removed]",
            "text/plain": [
              "<Figure size 360x360 with 1 Axes>"
            ]
          },
          "metadata": {
            "tags": []
          }
        }
      ]
    },
    {
      "cell_type": "code",
      "metadata": {
        "id": "cwvFlvg8FRBn",
        "colab_type": "code",
        "outputId": "8a9bc9ba-e1fa-4073-96c7-c4f72df30e37",
        "colab": {
          "base_uri": "https://localhost:8080/",
          "height": 493
        }
      },
      "source": [
        "m, c = 0, 0\n",
        "lr = 0.005\n",
        "batch_size = 10\n",
        "%matplotlib inline\n",
        "# Training for 1000 iterations, plotting after every 100 iterations:\n",
        "fig = plt.figure(figsize=(5, 5))\n",
        "ax = fig.add_subplot(111)\n",
        "plt.ion()\n",
        "fig.show()\n",
        "fig.canvas.draw()\n",
        "\n",
        "for num in range(10):\n",
        "    m, c, error = train_minibatch(l, tsq, m, c, lr, batch_size=90, iterations=100) # We will plot the error values for every 100 iterations\n",
        "    print(\"m = {0:.6} c = {1:.6} Error = {2:.6}\".format(m, c, error))\n",
        "    y = m * l + c\n",
        "    ax.clear()\n",
        "    ax.plot(l, tsq, '.k')\n",
        "    ax.plot(l, y)\n",
        "    fig.canvas.draw()\n",
        "    time.sleep(1)"
      ],
      "execution_count": 24,
      "outputs": [
        {
          "output_type": "stream",
          "text": [
            "m = 0.931474 c = 1.26374 Error = 1.02725\n",
            "m = 1.28537 c = 1.54009 Error = 0.567084\n",
            "m = 1.47997 c = 1.55619 Error = 0.486733\n",
            "m = 1.62707 c = 1.50578 Error = 0.438041\n",
            "m = 1.75673 c = 1.44038 Error = 0.3958\n",
            "m = 1.87721 c = 1.37359 Error = 0.357806\n",
            "m = 1.99094 c = 1.3089 Error = 0.323534\n",
            "m = 2.09878 c = 1.24711 Error = 0.292611\n",
            "m = 2.20116 c = 1.18834 Error = 0.26471\n",
            "m = 2.2984 c = 1.13248 Error = 0.239535\n"
          ],
          "name": "stdout"
        },
        {
          "output_type": "display_data",
          "data": {
            "image/png": "[encoded data removed]",
            "text/plain": [
              "<Figure size 360x360 with 1 Axes>"
            ]
          },
          "metadata": {
            "tags": []
          }
        }
      ]
    },
    {
      "cell_type": "code",
      "metadata": {
        "id": "mexeLzHlFI1A",
        "colab_type": "code",
        "outputId": "c31c6303-0421-44d8-d49d-b2015fcbcde5",
        "colab": {
          "base_uri": "https://localhost:8080/",
          "height": 493
        }
      },
      "source": [
        "m, c = 0, 0\n",
        "lr = 0.004\n",
        "batch_size = 10\n",
        "%matplotlib inline\n",
        "# Training for 1000 iterations, plotting after every 100 iterations:\n",
        "fig = plt.figure(figsize=(5, 5))\n",
        "ax = fig.add_subplot(111)\n",
        "plt.ion()\n",
        "fig.show()\n",
        "fig.canvas.draw()\n",
        "\n",
        "\n",
        "for num in range(10):\n",
        "    m, c, error = train_minibatch(l, tsq, m, c, lr, batch_size=10, iterations=100) # We will plot the error values for every 100 iterations\n",
        "    print(\"m = {0:.6} c = {1:.6} Error = {2:.6}\".format(m, c, error))\n",
        "    y = m * l + c\n",
        "    ax.clear()\n",
        "    ax.plot(l, tsq, '.k')\n",
        "    ax.plot(l, y)\n",
        "    fig.canvas.draw()\n",
        "    time.sleep(1)"
      ],
      "execution_count": 25,
      "outputs": [
        {
          "output_type": "stream",
          "text": [
            "m = 2.01326 c = 1.29612 Error = 0.290294\n",
            "m = 2.67208 c = 0.917982 Error = 0.162588\n",
            "m = 3.12668 c = 0.656373 Error = 0.0752691\n",
            "m = 3.44082 c = 0.47617 Error = 0.0265553\n",
            "m = 3.65762 c = 0.351495 Error = 0.0178262\n",
            "m = 3.80733 c = 0.265434 Error = 0.0127441\n",
            "m = 3.91079 c = 0.20614 Error = 0.0118982\n",
            "m = 3.98218 c = 0.165117 Error = 0.0114044\n",
            "m = 4.03149 c = 0.136793 Error = 0.00598186\n",
            "m = 4.06556 c = 0.11727 Error = 0.00959303\n"
          ],
          "name": "stdout"
        },
        {
          "output_type": "display_data",
          "data": {
            "image/png": "[encoded data removed]",
            "text/plain": [
              "<Figure size 360x360 with 1 Axes>"
            ]
          },
          "metadata": {
            "tags": []
          }
        }
      ]
    },
    {
      "cell_type": "code",
      "metadata": {
        "colab_type": "code",
        "id": "zmQ_eNyQTJYG",
        "outputId": "01903568-3a4b-4e95-89ac-b6072820b885",
        "colab": {
          "base_uri": "https://localhost:8080/",
          "height": 493
        }
      },
      "source": [
        "m, c = 0, 0\n",
        "lr = 0.1\n",
        "batch_size = 10\n",
        "%matplotlib inline\n",
        "# Training for 1000 iterations, plotting after every 100 iterations:\n",
        "fig = plt.figure(figsize=(5, 5))\n",
        "ax = fig.add_subplot(111)\n",
        "plt.ion()\n",
        "fig.show()\n",
        "fig.canvas.draw()\n",
        "\n",
        "# Call the train_minibatch() method to update m and c and get error value with lr = 0.001 and batch_size=90.\n",
        "for num in range(10):\n",
        "    m, c, error = train_minibatch(l, tsq, m, c, lr, batch_size=10, iterations=100) # We will plot the error values for every 100 iterations\n",
        "    print(\"m = {0:.6} c = {1:.6} Error = {2:.6}\".format(m, c, error))\n",
        "    y = m * l + c\n",
        "    ax.clear()\n",
        "    ax.plot(l, tsq, '.k')\n",
        "    ax.plot(l, y)\n",
        "    fig.canvas.draw()\n",
        "    time.sleep(1)"
      ],
      "execution_count": 26,
      "outputs": [
        {
          "output_type": "stream",
          "text": [
            "m = 4.13981 c = 0.0702291 Error = 0.0056853\n",
            "m = 4.14127 c = 0.0737884 Error = 0.0112459\n",
            "m = 4.13819 c = 0.0682753 Error = 0.00666552\n",
            "m = 4.14163 c = 0.0757858 Error = 0.00683317\n",
            "m = 4.1412 c = 0.0723937 Error = 0.00961606\n",
            "m = 4.14543 c = 0.0810307 Error = 0.0121053\n",
            "m = 4.13906 c = 0.06888 Error = 0.00680092\n",
            "m = 4.14272 c = 0.0734281 Error = 0.00726414\n",
            "m = 4.14374 c = 0.0776235 Error = 0.00285712\n",
            "m = 4.14183 c = 0.0736955 Error = 0.0103996\n"
          ],
          "name": "stdout"
        },
        {
          "output_type": "display_data",
          "data": {
            "image/png": "[encoded data removed]",
            "text/plain": [
              "<Figure size 360x360 with 1 Axes>"
            ]
          },
          "metadata": {
            "tags": []
          }
        }
      ]
    },
    {
      "cell_type": "markdown",
      "metadata": {
        "colab_type": "text",
        "id": "stwbu3wYTJYI"
      },
      "source": [
        "**Ungraded Exercise 5: Experiment with other batch_size values.**"
      ]
    },
    {
      "cell_type": "code",
      "metadata": {
        "colab_type": "code",
        "id": "uBUcyH_QTJYJ",
        "outputId": "90294917-5ce1-4562-f9c1-a9c33d10b489",
        "colab": {
          "base_uri": "https://localhost:8080/",
          "height": 493
        }
      },
      "source": [
        "m, c = 0, 0\n",
        "lr = 0.1\n",
        "batch_size = 70\n",
        "%matplotlib inline\n",
        "# Training for 1000 iterations, plotting after every 100 iterations:\n",
        "fig = plt.figure(figsize=(5, 5))\n",
        "ax = fig.add_subplot(111)\n",
        "plt.ion()\n",
        "fig.show()\n",
        "fig.canvas.draw()\n",
        "\n",
        "# Call the train_minibatch() method to update m and c and get error value with lr = 0.001 and batch_size=90.\n",
        "for num in range(10):\n",
        "    m, c, error = train_minibatch(l, tsq, m, c, lr, batch_size, iterations=100) # We will plot the error values for every 100 iterations\n",
        "    print(\"m = {0:.6} c = {1:.6} Error = {2:.6}\".format(m, c, error))\n",
        "    y = m * l + c\n",
        "    ax.clear()\n",
        "    ax.plot(l, tsq, '.k')\n",
        "    ax.plot(l, y)\n",
        "    fig.canvas.draw()\n",
        "    time.sleep(1)"
      ],
      "execution_count": 27,
      "outputs": [
        {
          "output_type": "stream",
          "text": [
            "m = 3.03686 c = 0.710981 Error = 0.0926206\n",
            "m = 3.74331 c = 0.298615 Error = 0.0174659\n",
            "m = 4.00131 c = 0.157252 Error = 0.00867409\n",
            "m = 4.09147 c = 0.103326 Error = 0.00716314\n",
            "m = 4.12539 c = 0.0831496 Error = 0.00758036\n",
            "m = 4.13622 c = 0.0761005 Error = 0.00661308\n",
            "m = 4.14149 c = 0.0754946 Error = 0.00800083\n",
            "m = 4.14129 c = 0.0728377 Error = 0.0074035\n",
            "m = 4.14021 c = 0.075364 Error = 0.00711847\n",
            "m = 4.14154 c = 0.0739042 Error = 0.00658391\n"
          ],
          "name": "stdout"
        },
        {
          "output_type": "display_data",
          "data": {
            "image/png": "[encoded data removed]",
            "text/plain": [
              "<Figure size 360x360 with 1 Axes>"
            ]
          },
          "metadata": {
            "tags": []
          }
        }
      ]
    },
    {
      "cell_type": "code",
      "metadata": {
        "id": "GP7TLmZKFwVs",
        "colab_type": "code",
        "outputId": "c5472942-1f3d-4565-df6e-7de1afe4785f",
        "colab": {
          "base_uri": "https://localhost:8080/",
          "height": 493
        }
      },
      "source": [
        "m, c = 0, 0\n",
        "lr = 0.1\n",
        "batch_size = 50\n",
        "%matplotlib inline\n",
        "# Training for 1000 iterations, plotting after every 100 iterations:\n",
        "fig = plt.figure(figsize=(5, 5))\n",
        "ax = fig.add_subplot(111)\n",
        "plt.ion()\n",
        "fig.show()\n",
        "fig.canvas.draw()\n",
        "\n",
        "\n",
        "for num in range(10):\n",
        "    m, c, error = train_minibatch(l, tsq, m, c, lr, batch_size, iterations=100) # We will plot the error values for every 100 iterations\n",
        "    print(\"m = {0:.6} c = {1:.6} Error = {2:.6}\".format(m, c, error))\n",
        "    y = m * l + c\n",
        "    ax.clear()\n",
        "    ax.plot(l, tsq, '.k')\n",
        "    ax.plot(l, y)\n",
        "    fig.canvas.draw()\n",
        "    time.sleep(1)"
      ],
      "execution_count": 28,
      "outputs": [
        {
          "output_type": "stream",
          "text": [
            "m = 3.04108 c = 0.714054 Error = 0.0826783\n",
            "m = 3.7504 c = 0.298203 Error = 0.0169046\n",
            "m = 4.00227 c = 0.158467 Error = 0.00825894\n",
            "m = 4.0925 c = 0.10162 Error = 0.0057952\n",
            "m = 4.12272 c = 0.0817922 Error = 0.00660245\n",
            "m = 4.13702 c = 0.0830717 Error = 0.0076092\n",
            "m = 4.13765 c = 0.0725875 Error = 0.00731907\n",
            "m = 4.14514 c = 0.0724505 Error = 0.00611291\n",
            "m = 4.14425 c = 0.077409 Error = 0.00650858\n",
            "m = 4.14265 c = 0.0763769 Error = 0.00749003\n"
          ],
          "name": "stdout"
        },
        {
          "output_type": "display_data",
          "data": {
            "image/png": "[encoded data removed]",
            "text/plain": [
              "<Figure size 360x360 with 1 Axes>"
            ]
          },
          "metadata": {
            "tags": []
          }
        }
      ]
    },
    {
      "cell_type": "markdown",
      "metadata": {
        "colab_type": "text",
        "id": "vIFFYGKnTJYL"
      },
      "source": [
        "\n",
        "#### Plotting error vs iterations"
      ]
    },
    {
      "cell_type": "code",
      "metadata": {
        "colab_type": "code",
        "id": "OhcEs6pVTJYL",
        "outputId": "481634f2-6388-4c69-9517-bba66c9dd030",
        "colab": {
          "base_uri": "https://localhost:8080/",
          "height": 350
        }
      },
      "source": [
        "%matplotlib inline\n",
        "\n",
        "ms, cs,errs = [], [], []\n",
        "m, c = 0, 0\n",
        "lr = 0.001\n",
        "batch_size = 10\n",
        "\n",
        "# Call the train_minibatch() method to update m and c and get error value with lr = 0.001 and batch_size = 10.\n",
        "for times in range(100):\n",
        "    m, c, error = train_minibatch(l, tsq, m, c, lr, batch_size, iterations=100) # We will plot the error values for every 100 iterations\n",
        "    ms.append(m)\n",
        "    cs.append(c)\n",
        "    \n",
        "    errs.append(error)\n",
        "    \n",
        "# plot Errors vs Iterations\n",
        "epoch = range(0, 10000, 100)\n",
        "plt.figure(figsize=(8, 5))\n",
        "plt.plot(epoch, errs)\n",
        "plt.xlabel(\"Iterations\")\n",
        "plt.ylabel(\"Error\")\n",
        "plt.title(\"Minibatch Gradient Descent\")\n",
        "plt.show()"
      ],
      "execution_count": 29,
      "outputs": [
        {
          "output_type": "display_data",
          "data": {
            "image/png": "[encoded data removed]",
            "text/plain": [
              "<Figure size 576x360 with 1 Axes>"
            ]
          },
          "metadata": {
            "tags": []
          }
        }
      ]
    },
    {
      "cell_type": "markdown",
      "metadata": {
        "colab_type": "text",
        "id": "rYuMICffTJYU"
      },
      "source": [
        "**Ungraded Exercise 6: Is this better than sequential gradient descent and vanilla gradient descent?**\n",
        "\n",
        "Hint - check the error value at saturation, and time it takes to reach saturation."
      ]
    },
    {
      "cell_type": "code",
      "metadata": {
        "colab_type": "code",
        "id": "sYqSG6SJTJYV",
        "colab": {}
      },
      "source": [
        "#### Last Error at saturation: 0.006"
      ],
      "execution_count": 0,
      "outputs": []
    },
    {
      "cell_type": "code",
      "metadata": {
        "id": "IhHIHfAHUkvS",
        "colab_type": "code",
        "colab": {}
      },
      "source": [
        "errs_1 = []\n",
        "m, c = 0, 0\n",
        "eta =0.006\n",
        "for iteration in range (100):\n",
        "  m_1, c_1, error = train(1, tsq, m, c, eta)\n",
        "  errs_1.append(error)\n",
        "\n",
        "\n",
        "\n",
        "ms, cs,errs = [], [], []\n",
        "m, c = 0, 0\n",
        "lr = 0.004\n",
        "\n",
        "# Call the train_stochastic() method to update m and c and get error value with lr = 0.004.\n",
        "for times in range(100):\n",
        "    m, c, error = train_stochastic(l, tsq, m, c, lr, iterations=100) # We will plot the error values for every 100 iterations\n",
        "    ms.append(m)\n",
        "    cs.append(c)\n",
        "    errs.append(error)\n",
        "    \n",
        "    \n",
        "ms, cs,errs = [], [], []\n",
        "m, c = 0, 0\n",
        "lr = 0.006\n",
        "batch_size = 10\n",
        "\n",
        "# Call the train_minibatch() method to update m and c and get error value with lr = 0.001 and batch_size = 10.\n",
        "for times in range(100):\n",
        "    m, c, error = train_minibatch(l, tsq, m, c, lr, batch_size, iterations=100) # We will plot the error values for every 100 iterations\n",
        "    ms.append(m)\n",
        "    cs.append(c)\n",
        "    \n",
        "    errs.append(error)"
      ],
      "execution_count": 0,
      "outputs": []
    },
    {
      "cell_type": "code",
      "metadata": {
        "id": "u_R4Vi7sUkP6",
        "colab_type": "code",
        "outputId": "4360140b-f5cb-4f32-fc40-3063f08ab997",
        "colab": {
          "base_uri": "https://localhost:8080/",
          "height": 609
        }
      },
      "source": [
        "\n",
        "    \n",
        "# plot Errors vs Iterations\n",
        "epoch = range(0, 10000, 100)\n",
        "plt.figure(figsize=(16,10))\n",
        "plt.plot(epoch, errs_1)\n",
        "plt.plot(epoch, errs)\n",
        "plt.xlabel(\"Iterations\")\n",
        "plt.ylabel(\"Error\")\n",
        "plt.show()"
      ],
      "execution_count": 32,
      "outputs": [
        {
          "output_type": "display_data",
          "data": {
            "image/png": "[encoded data removed]",
            "text/plain": [
              "<Figure size 1152x720 with 1 Axes>"
            ]
          },
          "metadata": {
            "tags": []
          }
        }
      ]
    },
    {
      "cell_type": "code",
      "metadata": {
        "id": "gRtx5pUdUkAf",
        "colab_type": "code",
        "colab": {}
      },
      "source": [
        ""
      ],
      "execution_count": 0,
      "outputs": []
    },
    {
      "cell_type": "markdown",
      "metadata": {
        "colab_type": "text",
        "id": "7VKXYIXL5zCi"
      },
      "source": [
        "### Please answer the questions below to complete the experiment:"
      ]
    },
    {
      "cell_type": "code",
      "metadata": {
        "colab_type": "code",
        "id": "UYhUFOC2qDdb",
        "colab": {}
      },
      "source": [
        "#@title For very large datasets, which of the following gradient descent methods is recommended? { run: \"auto\", form-width: \"500px\", display-mode: \"form\" }\n",
        "Answer = \"Stochastic\" #@param [\"Stochastic\",\"Mini-batch\",\"Batch\"]\n"
      ],
      "execution_count": 0,
      "outputs": []
    },
    {
      "cell_type": "code",
      "metadata": {
        "colab_type": "code",
        "id": "g9yfq4Cc5zqn",
        "colab": {}
      },
      "source": [
        "#@title How was the experiment? { run: \"auto\", form-width: \"500px\", display-mode: \"form\" }\n",
        "Complexity = \"Good and Challenging me\" #@param [\"Too Simple, I am wasting time\", \"Good, But Not Challenging for me\", \"Good and Challenging me\", \"Was Tough, but I did it\", \"Too Difficult for me\"]\n"
      ],
      "execution_count": 0,
      "outputs": []
    },
    {
      "cell_type": "code",
      "metadata": {
        "colab_type": "code",
        "id": "E9zKHoZa52UE",
        "colab": {}
      },
      "source": [
        "#@title If it was very easy, what more you would have liked to have been added? If it was very difficult, what would you have liked to have been removed? { run: \"auto\", display-mode: \"form\" }\n",
        "Additional = \"NA\" #@param {type:\"string\"}"
      ],
      "execution_count": 0,
      "outputs": []
    },
    {
      "cell_type": "code",
      "metadata": {
        "colab_type": "code",
        "id": "3Gb5zgRl54z-",
        "colab": {}
      },
      "source": [
        "#@title Can you identify the concepts from the lecture which this experiment covered? { run: \"auto\", vertical-output: true, display-mode: \"form\" }\n",
        "Concepts = \"No\" #@param [\"Yes\", \"No\"]"
      ],
      "execution_count": 0,
      "outputs": []
    },
    {
      "cell_type": "code",
      "metadata": {
        "cellView": "form",
        "colab_type": "code",
        "id": "Oiw7_YW958PG",
        "outputId": "caf90a88-497b-4740-8384-392be840c6b8",
        "colab": {
          "base_uri": "https://localhost:8080/",
          "height": 119
        }
      },
      "source": [
        "#@title Run this cell to submit your notebook for grading { vertical-output: true }\n",
        "try:\n",
        "  if submission_id:\n",
        "      return_id = submit_notebook()\n",
        "      if return_id : submission_id =return_id\n",
        "  else:\n",
        "      print(\"Please complete the setup first.\")\n",
        "except NameError:\n",
        "  print (\"Please complete the setup first.\")"
      ],
      "execution_count": 40,
      "outputs": [
        {
          "output_type": "stream",
          "text": [
            "Your submission is successful.\n",
            "Ref Id: 9257\n",
            "Date of submission:  04 May 2019\n",
            "Time of submission:  12:33:35\n",
            "View your submissions: https://iiith-aiml.talentsprint.com/notebook_submissions\n",
            "For any queries/discrepancies, please connect with mentors through the chat icon in LMS dashboard.\n"
          ],
          "name": "stdout"
        }
      ]
    }
  ]
}
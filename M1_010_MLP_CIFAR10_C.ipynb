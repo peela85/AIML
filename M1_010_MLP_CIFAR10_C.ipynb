{
  "nbformat": 4,
  "nbformat_minor": 0,
  "metadata": {
    "colab": {
      "name": "M1_010_MLP_CIFAR10_C.ipynb",
      "version": "0.3.2",
      "provenance": [],
      "collapsed_sections": [],
      "include_colab_link": true
    },
    "kernelspec": {
      "display_name": "Python 3",
      "language": "python",
      "name": "python3"
    }
  },
  "cells": [
    {
      "cell_type": "markdown",
      "metadata": {
        "id": "view-in-github",
        "colab_type": "text"
      },
      "source": [
        "<a href=\"https://colab.research.google.com/github/peela85/AIML/blob/master/M1_010_MLP_CIFAR10_C.ipynb\" target=\"_parent\"><img src=\"https://colab.research.google.com/assets/colab-badge.svg\" alt=\"Open In Colab\"/></a>"
      ]
    },
    {
      "cell_type": "markdown",
      "metadata": {
        "colab_type": "text",
        "id": "8WHMLNMNe6pw"
      },
      "source": [
        "# Advanced Certification in AIML\n",
        "## A Program by IIIT-H and TalentSprint"
      ]
    },
    {
      "cell_type": "markdown",
      "metadata": {
        "colab_type": "text",
        "id": "nZr4x8IBgUDQ"
      },
      "source": [
        "## Learning Objectives"
      ]
    },
    {
      "cell_type": "markdown",
      "metadata": {
        "colab_type": "text",
        "id": "LBCh8QQPe6py"
      },
      "source": [
        "\n",
        "At the end of the experiment, you will be able to:\n",
        "- Understand CIFAR-10 dataset\n",
        "- Experiment using MLP algorithm\n"
      ]
    },
    {
      "cell_type": "code",
      "metadata": {
        "id": "vUcIKh-nn1EC",
        "colab_type": "code",
        "cellView": "form",
        "colab": {
          "base_uri": "https://localhost:8080/",
          "height": 261
        },
        "outputId": "444f0a74-c516-47f3-892d-771db86f2346"
      },
      "source": [
        "#@title Experiment Walkthrough\n",
        "#@markdown MLP CIFAR-10\n",
        "\n",
        "from IPython.display import HTML\n",
        "HTML(\"\"\"<video width=\"420\" height=\"240\" controls>\n",
        "<source src=\"https://cdn.talentsprint.com/talentsprint/archives/sc/aiml/aiml_2018_b7_hyd/experiment_details_backup/mlp_cifar.mp4\" type=\"video/mp4\">\n",
        "</video>\"\"\")"
      ],
      "execution_count": 1,
      "outputs": [
        {
          "output_type": "execute_result",
          "data": {
            "text/html": [
              "<video width=\"420\" height=\"240\" controls>\n",
              "<source src=\"https://cdn.talentsprint.com/talentsprint/archives/sc/aiml/aiml_2018_b7_hyd/experiment_details_backup/mlp_cifar.mp4\" type=\"video/mp4\">\n",
              "</video>"
            ],
            "text/plain": [
              "<IPython.core.display.HTML object>"
            ]
          },
          "metadata": {
            "tags": []
          },
          "execution_count": 1
        }
      ]
    },
    {
      "cell_type": "markdown",
      "metadata": {
        "colab_type": "text",
        "id": "2NiLPMhPgYFa"
      },
      "source": [
        "## Dataset"
      ]
    },
    {
      "cell_type": "markdown",
      "metadata": {
        "colab_type": "text",
        "id": "e9CxCComgihL"
      },
      "source": [
        "#### Description"
      ]
    },
    {
      "cell_type": "markdown",
      "metadata": {
        "colab_type": "text",
        "id": "S0k4a9Qbe6p1"
      },
      "source": [
        "In this experiment, we will use the CIFAR-10 dataset. It consists of 60,000 32x32 colour images in 10 classes, with 6000 images per class. There are 50,000 training images and 10,000 test images.\n",
        "\n",
        "\n",
        "The dataset is divided into five training batches and one test batch, each with 10000 images. The test batch contains exactly 1000 randomly-selected images from each class. The training batches contain the remaining images in random order, but some training batches may contain more images from one class than another. Between them, the training batches contain exactly 5000 images from each class. \n",
        "\n",
        "**The code returns the contents of each data file as a dictionary**."
      ]
    },
    {
      "cell_type": "markdown",
      "metadata": {
        "colab_type": "text",
        "id": "DL8erXHHe6p2"
      },
      "source": [
        "There are 8 pickled (To know more about pickle refer **Python_Pickle_Introduction** notebook )files in the CIFAR-10 directory.\n",
        "\n",
        "    1. batches.meta\n",
        "\n",
        "    2. data_batch_1\n",
        "\n",
        "    3. data_batch_2\t\n",
        "\n",
        "    4. data_batch_3\n",
        "\n",
        "    5. data_batch_4\t\n",
        "\n",
        "    6. data_batch_5\n",
        "\n",
        "    7. readme.html\n",
        "\n",
        "    8. test_batch\n",
        "\n",
        "Getting into details of this dataset:\n",
        "\n",
        "\n",
        "**data** : A 50,000x3072 numpy array of unsigned integers. Each row of the array stores a 32x32 colour image. The first 1024 entries contain the red channel values, the next 1024 the green, and the final 1024 the blue. The image is stored in row-major order, so that the first 32 entries of the array are the red channel values of the first row of the image.\n",
        "\n",
        "**labels** : A list of 50,000 numbers in the range 0-9. The number at index i indicates the label of the ith image in the array data.\n",
        "\n"
      ]
    },
    {
      "cell_type": "markdown",
      "metadata": {
        "colab_type": "text",
        "id": "ecPwLon_e6p4"
      },
      "source": [
        "### DataSource\n",
        "\n",
        "https://www.cs.toronto.edu/~kriz/cifar.html"
      ]
    },
    {
      "cell_type": "markdown",
      "metadata": {
        "colab_type": "text",
        "id": "P2TBUL_gg4dC"
      },
      "source": [
        "## Keywords\n",
        "\n"
      ]
    },
    {
      "cell_type": "markdown",
      "metadata": {
        "colab_type": "text",
        "id": "nzykwcRXg6L-"
      },
      "source": [
        "*   Perceptron\n",
        "*   Linear Classifier\n",
        "*   CIFAR-10\n",
        "*   Multi-class Classification"
      ]
    },
    {
      "cell_type": "markdown",
      "metadata": {
        "colab_type": "text",
        "id": "jYSSCRSwfOBb"
      },
      "source": [
        "### Setup Steps"
      ]
    },
    {
      "cell_type": "code",
      "metadata": {
        "colab_type": "code",
        "id": "NndaoF0mfQ0b",
        "colab": {}
      },
      "source": [
        "#@title Please enter your registration id to start: (e.g. P181900101) { run: \"auto\", display-mode: \"form\" }\n",
        "Id = \"P181902225\" #@param {type:\"string\"}\n"
      ],
      "execution_count": 0,
      "outputs": []
    },
    {
      "cell_type": "code",
      "metadata": {
        "colab_type": "code",
        "id": "iP84uluWfS0m",
        "colab": {}
      },
      "source": [
        "#@title Please enter your password (normally your phone number) to continue: { run: \"auto\", display-mode: \"form\" }\n",
        "password = \"9059040698\" #@param {type:\"string\"}\n"
      ],
      "execution_count": 0,
      "outputs": []
    },
    {
      "cell_type": "code",
      "metadata": {
        "id": "oDNlx3uF3yja",
        "colab_type": "code",
        "cellView": "both",
        "colab": {
          "base_uri": "https://localhost:8080/",
          "height": 34
        },
        "outputId": "b9bdddfd-dd96-4f87-f774-dc6c64ec2db8"
      },
      "source": [
        "#@title Run this cell to complete the setup for this Notebook\n",
        "from IPython import get_ipython\n",
        "\n",
        "ipython = get_ipython()\n",
        "  \n",
        "notebook=\"M1W3_010_MLP_CIFAR10_C\" #name of the notebook\n",
        "\n",
        "def setup():\n",
        "#  ipython.magic(\"sx pip3 install torch\") \n",
        "    ipython.magic(\"sx wget https://cdn.talentsprint.com/aiml/Experiment_related_data/week3/Exp3/AIML_DS_CIFAR-10_STD.zip\")\n",
        "    ipython.magic(\"sx unzip AIML_DS_CIFAR-10_STD.zip\")\n",
        "    from IPython.display import HTML, display\n",
        "    display(HTML('<script src=\"https://dashboard.talentsprint.com/aiml/record_ip.html?traineeId={0}&recordId={1}\"></script>'.format(getId(),submission_id)))\n",
        "    print(\"Setup completed successfully\")\n",
        "    return\n",
        "\n",
        "def submit_notebook():\n",
        "    \n",
        "    ipython.magic(\"notebook -e \"+ notebook + \".ipynb\")\n",
        "    \n",
        "    import requests, json, base64, datetime\n",
        "\n",
        "    url = \"https://dashboard.talentsprint.com/xp/app/save_notebook_attempts\"\n",
        "    if not submission_id:\n",
        "      data = {\"id\" : getId(), \"notebook\" : notebook, \"mobile\" : getPassword()}\n",
        "      r = requests.post(url, data = data)\n",
        "      r = json.loads(r.text)\n",
        "\n",
        "      if r[\"status\"] == \"Success\":\n",
        "          return r[\"record_id\"]\n",
        "      elif \"err\" in r:        \n",
        "        print(r[\"err\"])\n",
        "        return None        \n",
        "      else:\n",
        "        print (\"Something is wrong, the notebook will not be submitted for grading\")\n",
        "        return None\n",
        "\n",
        "    elif getAnswer() and getComplexity() and getAdditional() and getConcepts():\n",
        "      f = open(notebook + \".ipynb\", \"rb\")\n",
        "      file_hash = base64.b64encode(f.read())\n",
        "\n",
        "      data = {\"complexity\" : Complexity, \"additional\" :Additional, \n",
        "              \"concepts\" : Concepts, \"record_id\" : submission_id, \n",
        "              \"answer\" : Answer, \"id\" : Id, \"file_hash\" : file_hash,\n",
        "              \"notebook\" : notebook}\n",
        "\n",
        "      r = requests.post(url, data = data)\n",
        "      r = json.loads(r.text)\n",
        "      print(\"Your submission is successful.\")\n",
        "      print(\"Ref Id:\", submission_id)\n",
        "      print(\"Date of submission: \", r[\"date\"])\n",
        "      print(\"Time of submission: \", r[\"time\"])\n",
        "      print(\"View your submissions: https://iiith-aiml.talentsprint.com/notebook_submissions\")\n",
        "      print(\"For any queries/discrepancies, please connect with mentors through the chat icon in LMS dashboard.\")\n",
        "      return submission_id\n",
        "    else: submission_id\n",
        "    \n",
        "\n",
        "def getAdditional():\n",
        "  try:\n",
        "    if Additional: return Additional      \n",
        "    else: raise NameError('')\n",
        "  except NameError:\n",
        "    print (\"Please answer Additional Question\")\n",
        "    return None\n",
        "\n",
        "def getComplexity():\n",
        "  try:\n",
        "    return Complexity\n",
        "  except NameError:\n",
        "    print (\"Please answer Complexity Question\")\n",
        "    return None\n",
        "  \n",
        "def getConcepts():\n",
        "  try:\n",
        "    return Concepts\n",
        "  except NameError:\n",
        "    print (\"Please answer Concepts Question\")\n",
        "    return None\n",
        "\n",
        "def getAnswer():\n",
        "  try:\n",
        "    return Answer\n",
        "  except NameError:\n",
        "    print (\"Please answer Question\")\n",
        "    return None\n",
        "\n",
        "def getId():\n",
        "  try: \n",
        "    return Id if Id else None\n",
        "  except NameError:\n",
        "    return None\n",
        "\n",
        "def getPassword():\n",
        "  try:\n",
        "    return password if password else None\n",
        "  except NameError:\n",
        "    return None\n",
        "\n",
        "submission_id = None\n",
        "### Setup \n",
        "if getPassword() and getId():\n",
        "  submission_id = submit_notebook()\n",
        "  if submission_id:\n",
        "    setup()\n",
        "    from IPython.display import HTML\n",
        "    HTML('<script src=\"https://dashboard.talentsprint.com/aiml/record_ip.html?traineeId={0}&recordId={1}\"></script>'.format(getId(),submission_id))\n",
        "  \n",
        "else:\n",
        "  print (\"Please complete Id and Password cells before running setup\")\n",
        "\n"
      ],
      "execution_count": 4,
      "outputs": [
        {
          "output_type": "display_data",
          "data": {
            "text/html": [
              "<script src=\"https://dashboard.talentsprint.com/aiml/record_ip.html?traineeId=P181902225&recordId=12495\"></script>"
            ],
            "text/plain": [
              "<IPython.core.display.HTML object>"
            ]
          },
          "metadata": {
            "tags": []
          }
        },
        {
          "output_type": "stream",
          "text": [
            "Setup completed successfully\n"
          ],
          "name": "stdout"
        }
      ]
    },
    {
      "cell_type": "markdown",
      "metadata": {
        "colab_type": "text",
        "id": "-60ux8L8gPYb"
      },
      "source": [
        "### Expected time to complete experiment is 60 min"
      ]
    },
    {
      "cell_type": "code",
      "metadata": {
        "colab_type": "code",
        "id": "9cmlHxf-e6p7",
        "colab": {}
      },
      "source": [
        "# Importing required packages\n",
        "import numpy as np\n",
        "import matplotlib.pyplot as plt\n",
        "import os\n",
        "import scipy.io as sio\n",
        "from sklearn.decomposition import PCA\n",
        "import itertools\n",
        "import operator\n",
        "import random\n",
        "import collections\n",
        "from scipy import stats\n",
        "from sklearn.metrics import accuracy_score"
      ],
      "execution_count": 0,
      "outputs": []
    },
    {
      "cell_type": "markdown",
      "metadata": {
        "colab_type": "text",
        "id": "w_RfJjpFG0kp"
      },
      "source": [
        "#### Function to unpickle the data"
      ]
    },
    {
      "cell_type": "code",
      "metadata": {
        "colab_type": "code",
        "id": "Q4qKDf-ee6qA",
        "colab": {}
      },
      "source": [
        "import pickle\n",
        "def unpickle(file):\n",
        "    with open(file, 'rb') as fo:\n",
        "        dict_1 = pickle.load(fo, encoding='Latin1')\n",
        "    return dict_1"
      ],
      "execution_count": 0,
      "outputs": []
    },
    {
      "cell_type": "markdown",
      "metadata": {
        "colab_type": "text",
        "id": "706Q4tnBe6qE"
      },
      "source": [
        "### Visualizing the images in CIFAR-10 Dataset\n"
      ]
    },
    {
      "cell_type": "markdown",
      "metadata": {
        "colab_type": "text",
        "id": "-6119xCxOAbF"
      },
      "source": [
        "When you pass a pickled file to the get_data function it returns features, labels, file names, list of classes of the corresponding file."
      ]
    },
    {
      "cell_type": "code",
      "metadata": {
        "colab_type": "code",
        "id": "h1_yJnrxJEcr",
        "colab": {}
      },
      "source": [
        "def get_data(file):\n",
        "  dict_1 = unpickle(file)\n",
        "  X = np.asarray(dict_1['data']).astype(\"uint8\")\n",
        "  Y = np.asarray(dict_1['labels'])\n",
        "  names = np.asarray(dict_1['filenames'])\n",
        "  list_class=(unpickle(\"AIML_DS_CIFAR-10_STD/batches.meta\")['label_names'])\n",
        "  return X,Y,names,list_class"
      ],
      "execution_count": 0,
      "outputs": []
    },
    {
      "cell_type": "code",
      "metadata": {
        "colab_type": "code",
        "id": "ONBuR6rLe6qG",
        "colab": {}
      },
      "source": [
        "# Function to visualize the data\n",
        "def visualize_image(X, Y, names, image_id,size=(5,5)):\n",
        "    rgb = X[image_id,:]\n",
        "    plt.figure(figsize = size)\n",
        "    img = rgb.reshape(3, 32, 32).transpose([1, 2, 0])\n",
        "    print(img.shape)\n",
        "    plt.grid(False)\n",
        "    plt.imshow(img)\n",
        "    plt.title(names[image_id])\n",
        "    plt.show()"
      ],
      "execution_count": 0,
      "outputs": []
    },
    {
      "cell_type": "code",
      "metadata": {
        "colab_type": "code",
        "id": "omWvcXvae6qL",
        "colab": {
          "base_uri": "https://localhost:8080/",
          "height": 341
        },
        "outputId": "e94d7b79-7398-433b-f1c9-19bedc6ff3eb"
      },
      "source": [
        "# Read 10000 images -- from batch 3\n",
        "X, Y, names, classes = get_data(\"AIML_DS_CIFAR-10_STD/data_batch_3\")\n",
        "# Display the 10th image\n",
        "pick = 10\n",
        "print(\"Class =\",classes[Y[pick]])\n",
        "visualize_image(X, Y, names, pick,size=(0.3,0.3)) # output image would be a blured image\n",
        "visualize_image(X, Y, names, pick,size=(3,3)) "
      ],
      "execution_count": 9,
      "outputs": [
        {
          "output_type": "stream",
          "text": [
            "Class = horse\n",
            "(32, 32, 3)\n"
          ],
          "name": "stdout"
        },
        {
          "output_type": "display_data",
          "data": {
            "image/png": "[encoded data removed]",
            "text/plain": [
              "<Figure size 21.6x21.6 with 1 Axes>"
            ]
          },
          "metadata": {
            "tags": []
          }
        },
        {
          "output_type": "stream",
          "text": [
            "(32, 32, 3)\n"
          ],
          "name": "stdout"
        },
        {
          "output_type": "display_data",
          "data": {
            "image/png": "[encoded data removed]",
            "text/plain": [
              "<Figure size 216x216 with 1 Axes>"
            ]
          },
          "metadata": {
            "tags": []
          }
        }
      ]
    },
    {
      "cell_type": "markdown",
      "metadata": {
        "colab_type": "text",
        "id": "WCjvhMpyIgyf"
      },
      "source": [
        "**NOTE: **\n",
        "\n",
        "**The images you see above are pixelated and hence they are  blur.** (Pixelation happens when you display a low resolution of an image on a larger canvas (such a large screen), where each pixel ends up being displayed as an image. You could read more about it on https://whatis.techtarget.com/definition/pixelation ).  This however does not affect the prediction of your machine learning algorithm, for the same reason."
      ]
    },
    {
      "cell_type": "markdown",
      "metadata": {
        "colab_type": "text",
        "id": "MFpkHmA76z46"
      },
      "source": [
        "**Now let us unpickle the data and labels from CIFAR-10 dataset and divide them into training and testing sets..**"
      ]
    },
    {
      "cell_type": "code",
      "metadata": {
        "colab_type": "code",
        "id": "AsRkIdoCe6qq",
        "colab": {}
      },
      "source": [
        "## Unpickling the data and labels from CIFAR-10 Dataset,\n",
        "## and Preparing the raw features for training and test data.\n",
        "\n",
        "X_train = []\n",
        "Y_train = []\n",
        "# Read all training features and labels\n",
        "for j in \"12345\": \n",
        "    batch_file = 'AIML_DS_CIFAR-10_STD/data_batch_'+ j\n",
        "    x_train, y_train, names_train, classes_train = get_data(batch_file)\n",
        "    X_train.extend(x_train)\n",
        "    Y_train.extend(y_train)\n",
        "\n",
        "X_train = np.asarray(X_train)\n",
        "Y_train = np.asarray(Y_train)\n",
        "\n",
        "# Read all test features and labels\n",
        "X_test, Y_test, names_test, classes_test = get_data(\"AIML_DS_CIFAR-10_STD/test_batch\")"
      ],
      "execution_count": 0,
      "outputs": []
    },
    {
      "cell_type": "code",
      "metadata": {
        "colab_type": "code",
        "id": "FTS853um7cOl",
        "colab": {
          "base_uri": "https://localhost:8080/",
          "height": 34
        },
        "outputId": "8e4d7b7c-e55f-41d3-fdae-6512e1111171"
      },
      "source": [
        "Y_test.shape, Y_train.shape, X_test.shape, X_train.shape"
      ],
      "execution_count": 11,
      "outputs": [
        {
          "output_type": "execute_result",
          "data": {
            "text/plain": [
              "((10000,), (50000,), (10000, 3072), (50000, 3072))"
            ]
          },
          "metadata": {
            "tags": []
          },
          "execution_count": 11
        }
      ]
    },
    {
      "cell_type": "markdown",
      "metadata": {
        "colab_type": "text",
        "id": "BpwS6wNv_mpB"
      },
      "source": [
        "Now, select only classes **5** , **7** and **9**, and make a linear classifier for these three classes. "
      ]
    },
    {
      "cell_type": "code",
      "metadata": {
        "colab_type": "code",
        "id": "iqCzqziL_ZVu",
        "colab": {}
      },
      "source": [
        "# Function to extract the classes\n",
        "def extract_3classes(class0, class1,class2, X, Y):\n",
        "    # Select class #0\n",
        "    X_0 = X[Y == class0]\n",
        "    Y_0 = Y[Y == class0]\n",
        "    # Select class #1\n",
        "    X_1 = X[Y == class1]\n",
        "    Y_1 = Y[Y == class1]\n",
        "    # Select class #2\n",
        "    X_2 = X[Y == class2]\n",
        "    Y_2 = Y[Y == class2]\n",
        "    # Join the two classes to make the set\n",
        "    X_3classes = np.vstack((X_0, X_1,X_2))\n",
        "    Y_3classes = np.concatenate((Y_0, Y_1,Y_2))\n",
        "    return X_3classes, Y_3classes"
      ],
      "execution_count": 0,
      "outputs": []
    },
    {
      "cell_type": "code",
      "metadata": {
        "colab_type": "code",
        "id": "lq05lCxD_aW9",
        "colab": {}
      },
      "source": [
        "# Select classes #5 and #7\n",
        "X_train_3classes, Y_train_3classes = extract_3classes(5, 7,9, X_train, Y_train)\n",
        "X_test_3classes, Y_test_3classes = extract_3classes(5, 7,9, X_test, Y_test)"
      ],
      "execution_count": 0,
      "outputs": []
    },
    {
      "cell_type": "code",
      "metadata": {
        "colab_type": "code",
        "id": "GXG87bUFImR-",
        "colab": {
          "base_uri": "https://localhost:8080/",
          "height": 34
        },
        "outputId": "7c25c666-22fc-4faa-9b94-00e863c8c4ac"
      },
      "source": [
        "Y_train_3classes"
      ],
      "execution_count": 14,
      "outputs": [
        {
          "output_type": "execute_result",
          "data": {
            "text/plain": [
              "array([5, 5, 5, ..., 9, 9, 9])"
            ]
          },
          "metadata": {
            "tags": []
          },
          "execution_count": 14
        }
      ]
    },
    {
      "cell_type": "markdown",
      "metadata": {
        "colab_type": "text",
        "id": "8Fhim_70Jrbl"
      },
      "source": [
        "### Training the classifier on raw features above"
      ]
    },
    {
      "cell_type": "code",
      "metadata": {
        "colab_type": "code",
        "id": "2JjSqB_AJnM5",
        "colab": {
          "base_uri": "https://localhost:8080/",
          "height": 136
        },
        "outputId": "474c6cc4-04f0-4692-c116-2e072711ee68"
      },
      "source": [
        "from sklearn.neural_network import MLPClassifier\n",
        "\n",
        "clf = MLPClassifier(activation= \"relu\",solver= \"lbfgs\" ,hidden_layer_sizes = (15,10) ,learning_rate = 'constant',learning_rate_init=0.01)\n",
        "# Fitting the data into the model\n",
        "clf.fit(X_train_3classes, Y_train_3classes)"
      ],
      "execution_count": 15,
      "outputs": [
        {
          "output_type": "execute_result",
          "data": {
            "text/plain": [
              "MLPClassifier(activation='relu', alpha=0.0001, batch_size='auto', beta_1=0.9,\n",
              "       beta_2=0.999, early_stopping=False, epsilon=1e-08,\n",
              "       hidden_layer_sizes=(15, 10), learning_rate='constant',\n",
              "       learning_rate_init=0.01, max_iter=200, momentum=0.9,\n",
              "       n_iter_no_change=10, nesterovs_momentum=True, power_t=0.5,\n",
              "       random_state=None, shuffle=True, solver='lbfgs', tol=0.0001,\n",
              "       validation_fraction=0.1, verbose=False, warm_start=False)"
            ]
          },
          "metadata": {
            "tags": []
          },
          "execution_count": 15
        }
      ]
    },
    {
      "cell_type": "markdown",
      "metadata": {
        "colab_type": "text",
        "id": "CdIJxAquKIEq"
      },
      "source": [
        "### Calculating the accuracy"
      ]
    },
    {
      "cell_type": "code",
      "metadata": {
        "colab_type": "code",
        "id": "l2rbaIgmJ4Me",
        "colab": {
          "base_uri": "https://localhost:8080/",
          "height": 34
        },
        "outputId": "7ba47167-f5d6-46d4-817d-d006611b2c4b"
      },
      "source": [
        "pred = clf.predict(X_test_3classes)\n",
        "accuracy_score(pred, Y_test_3classes)"
      ],
      "execution_count": 16,
      "outputs": [
        {
          "output_type": "execute_result",
          "data": {
            "text/plain": [
              "0.5733333333333334"
            ]
          },
          "metadata": {
            "tags": []
          },
          "execution_count": 16
        }
      ]
    },
    {
      "cell_type": "markdown",
      "metadata": {
        "colab_type": "text",
        "id": "_8-zr2Ei4Fsz"
      },
      "source": [
        "### It is expected for the accuracy above to be low, given that we are using the 'raw features of the image'"
      ]
    },
    {
      "cell_type": "markdown",
      "metadata": {
        "colab_type": "text",
        "id": "tZ2y6XI4ATa9"
      },
      "source": [
        "### Lets perform PCA on the data above to see if things get better"
      ]
    },
    {
      "cell_type": "code",
      "metadata": {
        "colab_type": "code",
        "id": "KFM0KIJXhn35",
        "colab": {}
      },
      "source": [
        "#You can try various values of principal components and arrive at the least number that doesn't change accuracy.\n",
        "#Note: the fit_transform below, projects your data onto the 800 components and gets the projected value in each of the...\n",
        "#...components. The projections are now considered as the feature representation of each image (as opposed to the image itself)\n",
        "pca = PCA(n_components=800) \n",
        "pca_train_features = pca.fit_transform(X_train_3classes)\n",
        "pca_test_features = pca.fit_transform(X_test_3classes)"
      ],
      "execution_count": 0,
      "outputs": []
    },
    {
      "cell_type": "markdown",
      "metadata": {
        "colab_type": "text",
        "id": "JbrgAylS-aWh"
      },
      "source": [
        "### Training the classifier with PCA features above"
      ]
    },
    {
      "cell_type": "code",
      "metadata": {
        "colab_type": "code",
        "id": "YBCYhhfP-LGW",
        "colab": {
          "base_uri": "https://localhost:8080/",
          "height": 136
        },
        "outputId": "e281f471-5dd7-4eac-99b2-eff090b6552c"
      },
      "source": [
        "clf.fit(pca_train_features, Y_train_3classes)\n"
      ],
      "execution_count": 18,
      "outputs": [
        {
          "output_type": "execute_result",
          "data": {
            "text/plain": [
              "MLPClassifier(activation='relu', alpha=0.0001, batch_size='auto', beta_1=0.9,\n",
              "       beta_2=0.999, early_stopping=False, epsilon=1e-08,\n",
              "       hidden_layer_sizes=(15, 10), learning_rate='constant',\n",
              "       learning_rate_init=0.01, max_iter=200, momentum=0.9,\n",
              "       n_iter_no_change=10, nesterovs_momentum=True, power_t=0.5,\n",
              "       random_state=None, shuffle=True, solver='lbfgs', tol=0.0001,\n",
              "       validation_fraction=0.1, verbose=False, warm_start=False)"
            ]
          },
          "metadata": {
            "tags": []
          },
          "execution_count": 18
        }
      ]
    },
    {
      "cell_type": "markdown",
      "metadata": {
        "colab_type": "text",
        "id": "PGUjugup-dSG"
      },
      "source": [
        "### Calculating the accuracy with the PCA Features above"
      ]
    },
    {
      "cell_type": "code",
      "metadata": {
        "colab_type": "code",
        "id": "DPhcxq8D-p26",
        "colab": {
          "base_uri": "https://localhost:8080/",
          "height": 34
        },
        "outputId": "7281fff7-0c35-4628-cf3e-d876babfd39d"
      },
      "source": [
        "pred = clf.predict(pca_test_features)\n",
        "\n",
        "accuracy_score(pred, Y_test_3classes)\n"
      ],
      "execution_count": 19,
      "outputs": [
        {
          "output_type": "execute_result",
          "data": {
            "text/plain": [
              "0.5373333333333333"
            ]
          },
          "metadata": {
            "tags": []
          },
          "execution_count": 19
        }
      ]
    },
    {
      "cell_type": "markdown",
      "metadata": {
        "colab_type": "text",
        "id": "8Hmr8HgUe6rn"
      },
      "source": [
        "### Feature type-3: Deep Features"
      ]
    },
    {
      "cell_type": "code",
      "metadata": {
        "colab_type": "code",
        "id": "nNWLqM_De6ro",
        "colab": {}
      },
      "source": [
        "### Loading the features\n",
        "features = sio.loadmat('AIML_DS_CIFAR-10_STD/cifar10_deep_features.mat')"
      ],
      "execution_count": 0,
      "outputs": []
    },
    {
      "cell_type": "code",
      "metadata": {
        "colab_type": "code",
        "id": "AQo_2EdWe6rt",
        "colab": {
          "base_uri": "https://localhost:8080/",
          "height": 34
        },
        "outputId": "bea1af7a-5570-4122-81f0-4549ce7fd62b"
      },
      "source": [
        "# Extracting the deep features into training and testing\n",
        "deep_features_train = features['x_train']\n",
        "deep_labels_train = np.squeeze(np.transpose(features['y_train']))\n",
        "deep_features_test = features['x_test']\n",
        "deep_labels_test = np.squeeze(np.transpose(features['y_test']))\n",
        "print(deep_features_train.shape, deep_labels_train.shape, deep_features_test.shape, deep_labels_test.shape)"
      ],
      "execution_count": 21,
      "outputs": [
        {
          "output_type": "stream",
          "text": [
            "(50000, 512) (50000,) (10000, 512) (10000,)\n"
          ],
          "name": "stdout"
        }
      ]
    },
    {
      "cell_type": "code",
      "metadata": {
        "colab_type": "code",
        "id": "keqjhNvze6ry",
        "colab": {}
      },
      "source": [
        "# Extract features of class0 and class1\n",
        "deep_features_train_3classes, deep_labels_train_3classes = extract_3classes(5, 7,9, deep_features_train, np.squeeze(deep_labels_train))\n",
        "deep_features_test_3classes, deep_labels_test_3classes = extract_3classes(5, 7,9, deep_features_test, np.squeeze(deep_labels_test))"
      ],
      "execution_count": 0,
      "outputs": []
    },
    {
      "cell_type": "markdown",
      "metadata": {
        "colab_type": "text",
        "id": "IuZypRxfOGBx"
      },
      "source": [
        "### Training the classifier with Deep Features above"
      ]
    },
    {
      "cell_type": "code",
      "metadata": {
        "colab_type": "code",
        "id": "vcmnElm4OKlL",
        "colab": {
          "base_uri": "https://localhost:8080/",
          "height": 136
        },
        "outputId": "a86e1bb1-fa1f-42a2-bf3f-ed7a837cce06"
      },
      "source": [
        "clf.fit(deep_features_train_3classes, deep_labels_train_3classes)"
      ],
      "execution_count": 23,
      "outputs": [
        {
          "output_type": "execute_result",
          "data": {
            "text/plain": [
              "MLPClassifier(activation='relu', alpha=0.0001, batch_size='auto', beta_1=0.9,\n",
              "       beta_2=0.999, early_stopping=False, epsilon=1e-08,\n",
              "       hidden_layer_sizes=(15, 10), learning_rate='constant',\n",
              "       learning_rate_init=0.01, max_iter=200, momentum=0.9,\n",
              "       n_iter_no_change=10, nesterovs_momentum=True, power_t=0.5,\n",
              "       random_state=None, shuffle=True, solver='lbfgs', tol=0.0001,\n",
              "       validation_fraction=0.1, verbose=False, warm_start=False)"
            ]
          },
          "metadata": {
            "tags": []
          },
          "execution_count": 23
        }
      ]
    },
    {
      "cell_type": "markdown",
      "metadata": {
        "colab_type": "text",
        "id": "_xL-CjTTOZsr"
      },
      "source": [
        "### Calculating the accuracy with the Deep Features above"
      ]
    },
    {
      "cell_type": "code",
      "metadata": {
        "colab_type": "code",
        "id": "OlrvPpK9OVtj",
        "colab": {
          "base_uri": "https://localhost:8080/",
          "height": 34
        },
        "outputId": "871eb046-3271-406e-9525-778bfe2c7762"
      },
      "source": [
        "pred = clf.predict(deep_features_test_3classes)\n",
        "\n",
        "accuracy_score(pred, deep_labels_test_3classes)"
      ],
      "execution_count": 24,
      "outputs": [
        {
          "output_type": "execute_result",
          "data": {
            "text/plain": [
              "0.9763333333333334"
            ]
          },
          "metadata": {
            "tags": []
          },
          "execution_count": 24
        }
      ]
    },
    {
      "cell_type": "markdown",
      "metadata": {
        "colab_type": "text",
        "id": "dpmrvcNkg4KM"
      },
      "source": [
        "### Please answer the questions below to complete the experiment:"
      ]
    },
    {
      "cell_type": "code",
      "metadata": {
        "colab_type": "code",
        "id": "HnEXMRNioEKb",
        "colab": {}
      },
      "source": [
        "#@title The max_iter parameter of MLPClassifier within Sklearn, when specified with a value (say x), ensures that x number of epochs are run, and is completely independent of any other sklearn parameter? (you could read the MLPClassifier doumentation in Sklearn){ run: \"auto\", form-width: \"500px\", display-mode: \"form\" }\n",
        "Answer = \"Yes\" #@param [\"Yes\", \"No\"]\n"
      ],
      "execution_count": 0,
      "outputs": []
    },
    {
      "cell_type": "code",
      "metadata": {
        "colab_type": "code",
        "id": "B0KcZCz5e6sA",
        "colab": {}
      },
      "source": [
        "#@title How was the experiment? { run: \"auto\", form-width: \"500px\", display-mode: \"form\" }\n",
        "Complexity = \"Was Tough, but I did it\" #@param [\"Too Simple, I am wasting time\", \"Good, But Not Challenging for me\", \"Good and Challenging me\", \"Was Tough, but I did it\", \"Too Difficult for me\"]\n"
      ],
      "execution_count": 0,
      "outputs": []
    },
    {
      "cell_type": "code",
      "metadata": {
        "colab_type": "code",
        "id": "ZZTYl4pmg9Qq",
        "colab": {}
      },
      "source": [
        "#@title If it was very easy, what more you would have liked to have been added? If it was very difficult, what would you have liked to have been removed? { run: \"auto\", display-mode: \"form\" }\n",
        "Additional = \" na\" #@param {type:\"string\"}"
      ],
      "execution_count": 0,
      "outputs": []
    },
    {
      "cell_type": "code",
      "metadata": {
        "colab_type": "code",
        "id": "4YKDp73pg_IE",
        "colab": {}
      },
      "source": [
        "#@title Can you identify the concepts from the lecture which this experiment covered? { run: \"auto\", vertical-output: true, display-mode: \"form\" }\n",
        "Concepts = \"Yes\" #@param [\"Yes\", \"No\"]"
      ],
      "execution_count": 0,
      "outputs": []
    },
    {
      "cell_type": "code",
      "metadata": {
        "cellView": "form",
        "colab_type": "code",
        "id": "J0XbVGLPhBC4",
        "colab": {
          "base_uri": "https://localhost:8080/",
          "height": 119
        },
        "outputId": "e956afa7-74bc-4434-d559-4410cbab644d"
      },
      "source": [
        "#@title Run this cell to submit your notebook for grading { vertical-output: true }\n",
        "try:\n",
        "  if submission_id:\n",
        "      return_id = submit_notebook()\n",
        "      if return_id : submission_id =return_id\n",
        "  else:\n",
        "      print(\"Please complete the setup first.\")\n",
        "except NameError:\n",
        "  print (\"Please complete the setup first.\")"
      ],
      "execution_count": 29,
      "outputs": [
        {
          "output_type": "stream",
          "text": [
            "Your submission is successful.\n",
            "Ref Id: 12495\n",
            "Date of submission:  18 May 2019\n",
            "Time of submission:  10:48:32\n",
            "View your submissions: https://iiith-aiml.talentsprint.com/notebook_submissions\n",
            "For any queries/discrepancies, please connect with mentors through the chat icon in LMS dashboard.\n"
          ],
          "name": "stdout"
        }
      ]
    },
    {
      "cell_type": "code",
      "metadata": {
        "colab_type": "code",
        "id": "7wCF8jQjoF0F",
        "colab": {}
      },
      "source": [
        ""
      ],
      "execution_count": 0,
      "outputs": []
    }
  ]
}